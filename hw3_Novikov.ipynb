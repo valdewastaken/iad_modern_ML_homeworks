{
 "cells": [
  {
   "cell_type": "markdown",
   "metadata": {
    "id": "dhaA1R7xUcDQ"
   },
   "source": [
    "# Домашнее задание 3. \n",
    "\n",
    "## Предсказание пользовательской оценки отеля по тексту отзыва."
   ]
  },
  {
   "cell_type": "markdown",
   "metadata": {
    "id": "QjksJgxNUcDr"
   },
   "source": [
    "Мы собрали для вас отзывы по 1500 отелям из совершенно разных уголков мира. Что это за отели - секрет. Вам дан текст отзыва и пользовательская оценка отеля. Ваша задача - научиться предсказывать оценку отеля по отзыву. Данные можно скачать [тут](https://www.kaggle.com/c/hseds-texts-2020/data?select=train.csv)."
   ]
  },
  {
   "cell_type": "markdown",
   "metadata": {
    "id": "HtrS2NqaUcDv"
   },
   "source": [
    "Главная метрика - Mean Absolute Error (MAE). Во всех частях домашней работы вам нужно получить значение MAE не превышающее 1. В противном случае мы будем вынуждены не засчитать задание :( "
   ]
  },
  {
   "cell_type": "markdown",
   "metadata": {
    "id": "_BaPh8e9UcDx"
   },
   "source": [
    "Для измерения качества вашей модели используйте разбиение данных на train и test и замеряйте качество на тестовой части."
   ]
  },
  {
   "cell_type": "markdown",
   "metadata": {
    "id": "-d1ji5loUcD2"
   },
   "source": [
    "#### Про данные:\n",
    "Каждое ревью состоит из двух текстов: positive и negative - плюсы и минусы отеля. В столбце score находится оценка пользователя - вещественное число 0 до 10. Вам нужно извлечь признаки из этих текстов и предсказать по ним оценку."
   ]
  },
  {
   "cell_type": "markdown",
   "metadata": {
    "id": "m8lx_cXNUcD4"
   },
   "source": [
    "Удачи! 💪"
   ]
  },
  {
   "cell_type": "markdown",
   "metadata": {
    "id": "Mz9EOjMLUcD8"
   },
   "source": [
    "#### Использовать внешние данные для обучения строго запрещено. Можно использовать предобученные модели из torchvision."
   ]
  },
  {
   "cell_type": "code",
   "execution_count": 3,
   "metadata": {
    "colab": {
     "base_uri": "https://localhost:8080/"
    },
    "id": "Arb3-pPuUfdp",
    "outputId": "124258e4-69ef-451e-eb6c-4ce1b99a3836"
   },
   "outputs": [
    {
     "name": "stdout",
     "output_type": "stream",
     "text": [
      "--2020-12-22 06:44:24--  https://www.dropbox.com/s/vjenzws8velxh32/test.csv\n",
      "Resolving www.dropbox.com (www.dropbox.com)... 162.125.1.18, 2620:100:6016:18::a27d:112\n",
      "Connecting to www.dropbox.com (www.dropbox.com)|162.125.1.18|:443... connected.\n",
      "HTTP request sent, awaiting response... 301 Moved Permanently\n",
      "Location: /s/raw/vjenzws8velxh32/test.csv [following]\n",
      "--2020-12-22 06:44:24--  https://www.dropbox.com/s/raw/vjenzws8velxh32/test.csv\n",
      "Reusing existing connection to www.dropbox.com:443.\n",
      "HTTP request sent, awaiting response... 302 Found\n",
      "Location: https://ucf7ac7469a447c1117bc97e9d4a.dl.dropboxusercontent.com/cd/0/inline/BFh9wVWMjy9bn9ITw99YLdDUMHwbB6jZ2zrmajMlAi8jzSLPndAK0J3xDO4a6vOWBL3m1YJvXZdF9anUgbiHi2Ag-5l2rUNLq3cVJEZN4jS0hXORVXlwhoWyG0Zb__7fJ9k/file# [following]\n",
      "--2020-12-22 06:44:24--  https://ucf7ac7469a447c1117bc97e9d4a.dl.dropboxusercontent.com/cd/0/inline/BFh9wVWMjy9bn9ITw99YLdDUMHwbB6jZ2zrmajMlAi8jzSLPndAK0J3xDO4a6vOWBL3m1YJvXZdF9anUgbiHi2Ag-5l2rUNLq3cVJEZN4jS0hXORVXlwhoWyG0Zb__7fJ9k/file\n",
      "Resolving ucf7ac7469a447c1117bc97e9d4a.dl.dropboxusercontent.com (ucf7ac7469a447c1117bc97e9d4a.dl.dropboxusercontent.com)... 162.125.1.15, 2620:100:6016:15::a27d:10f\n",
      "Connecting to ucf7ac7469a447c1117bc97e9d4a.dl.dropboxusercontent.com (ucf7ac7469a447c1117bc97e9d4a.dl.dropboxusercontent.com)|162.125.1.15|:443... connected.\n",
      "HTTP request sent, awaiting response... 200 OK\n",
      "Length: 4497121 (4.3M) [text/plain]\n",
      "Saving to: ‘test.csv’\n",
      "\n",
      "test.csv            100%[===================>]   4.29M  27.4MB/s    in 0.2s    \n",
      "\n",
      "2020-12-22 06:44:24 (27.4 MB/s) - ‘test.csv’ saved [4497121/4497121]\n",
      "\n",
      "--2020-12-22 06:44:25--  https://www.dropbox.com/s/9xwbmexkmv6d7y4/train.csv\n",
      "Resolving www.dropbox.com (www.dropbox.com)... 162.125.1.18, 2620:100:6016:18::a27d:112\n",
      "Connecting to www.dropbox.com (www.dropbox.com)|162.125.1.18|:443... connected.\n",
      "HTTP request sent, awaiting response... 301 Moved Permanently\n",
      "Location: /s/raw/9xwbmexkmv6d7y4/train.csv [following]\n",
      "--2020-12-22 06:44:25--  https://www.dropbox.com/s/raw/9xwbmexkmv6d7y4/train.csv\n",
      "Reusing existing connection to www.dropbox.com:443.\n",
      "HTTP request sent, awaiting response... 302 Found\n",
      "Location: https://uc6c57912cada4fa02a69e48afc0.dl.dropboxusercontent.com/cd/0/inline/BFhyPYInfDfEZSRo0N5VXS_TDJbSfBG046lBnWeMuCNXplmT5jZktix6glssEZ2EdIm7gBZmKK2o3r1OoGtjhVAnMSkqGCePKSMFJ6ZS2kz0kI4Uka0wzsiz8n_B_wBeIk4/file# [following]\n",
      "--2020-12-22 06:44:25--  https://uc6c57912cada4fa02a69e48afc0.dl.dropboxusercontent.com/cd/0/inline/BFhyPYInfDfEZSRo0N5VXS_TDJbSfBG046lBnWeMuCNXplmT5jZktix6glssEZ2EdIm7gBZmKK2o3r1OoGtjhVAnMSkqGCePKSMFJ6ZS2kz0kI4Uka0wzsiz8n_B_wBeIk4/file\n",
      "Resolving uc6c57912cada4fa02a69e48afc0.dl.dropboxusercontent.com (uc6c57912cada4fa02a69e48afc0.dl.dropboxusercontent.com)... 162.125.1.15, 2620:100:6016:15::a27d:10f\n",
      "Connecting to uc6c57912cada4fa02a69e48afc0.dl.dropboxusercontent.com (uc6c57912cada4fa02a69e48afc0.dl.dropboxusercontent.com)|162.125.1.15|:443... connected.\n",
      "HTTP request sent, awaiting response... 200 OK\n",
      "Length: 22811739 (22M) [text/plain]\n",
      "Saving to: ‘train.csv’\n",
      "\n",
      "train.csv           100%[===================>]  21.75M  91.2MB/s    in 0.2s    \n",
      "\n",
      "2020-12-22 06:44:26 (91.2 MB/s) - ‘train.csv’ saved [22811739/22811739]\n",
      "\n"
     ]
    }
   ],
   "source": [
    "!wget https://www.dropbox.com/s/vjenzws8velxh32/test.csv\n",
    "!wget https://www.dropbox.com/s/9xwbmexkmv6d7y4/train.csv"
   ]
  },
  {
   "cell_type": "code",
   "execution_count": 1,
   "metadata": {
    "colab": {
     "base_uri": "https://localhost:8080/",
     "height": 187
    },
    "id": "M5bjqgBfUcD-",
    "outputId": "7782ea60-1284-435e-a99a-edbed2a88838"
   },
   "outputs": [
    {
     "data": {
      "text/html": [
       "<div>\n",
       "<style scoped>\n",
       "    .dataframe tbody tr th:only-of-type {\n",
       "        vertical-align: middle;\n",
       "    }\n",
       "\n",
       "    .dataframe tbody tr th {\n",
       "        vertical-align: top;\n",
       "    }\n",
       "\n",
       "    .dataframe thead th {\n",
       "        text-align: right;\n",
       "    }\n",
       "</style>\n",
       "<table border=\"1\" class=\"dataframe\">\n",
       "  <thead>\n",
       "    <tr style=\"text-align: right;\">\n",
       "      <th></th>\n",
       "      <th>review_id</th>\n",
       "      <th>negative</th>\n",
       "      <th>positive</th>\n",
       "      <th>score</th>\n",
       "    </tr>\n",
       "  </thead>\n",
       "  <tbody>\n",
       "    <tr>\n",
       "      <th>0</th>\n",
       "      <td>00003c6036f30f590c0ac435efb8739b</td>\n",
       "      <td>There were issues with the wifi connection</td>\n",
       "      <td>No Positive</td>\n",
       "      <td>7.1</td>\n",
       "    </tr>\n",
       "    <tr>\n",
       "      <th>1</th>\n",
       "      <td>00004d18f186bf2489590dc415876f73</td>\n",
       "      <td>TV not working</td>\n",
       "      <td>No Positive</td>\n",
       "      <td>7.5</td>\n",
       "    </tr>\n",
       "    <tr>\n",
       "      <th>2</th>\n",
       "      <td>0000cf900cbb8667fad33a717e9b1cf4</td>\n",
       "      <td>More pillows</td>\n",
       "      <td>Beautiful room Great location Lovely staff</td>\n",
       "      <td>10.0</td>\n",
       "    </tr>\n",
       "    <tr>\n",
       "      <th>3</th>\n",
       "      <td>0000df16edf19e7ad9dd8c5cd6f6925e</td>\n",
       "      <td>Very business</td>\n",
       "      <td>Location</td>\n",
       "      <td>5.4</td>\n",
       "    </tr>\n",
       "    <tr>\n",
       "      <th>4</th>\n",
       "      <td>00025e1aa3ac32edb496db49e76bbd00</td>\n",
       "      <td>Rooms could do with a bit of a refurbishment ...</td>\n",
       "      <td>Nice breakfast handy for Victoria train stati...</td>\n",
       "      <td>6.7</td>\n",
       "    </tr>\n",
       "  </tbody>\n",
       "</table>\n",
       "</div>"
      ],
      "text/plain": [
       "                          review_id  ... score\n",
       "0  00003c6036f30f590c0ac435efb8739b  ...   7.1\n",
       "1  00004d18f186bf2489590dc415876f73  ...   7.5\n",
       "2  0000cf900cbb8667fad33a717e9b1cf4  ...  10.0\n",
       "3  0000df16edf19e7ad9dd8c5cd6f6925e  ...   5.4\n",
       "4  00025e1aa3ac32edb496db49e76bbd00  ...   6.7\n",
       "\n",
       "[5 rows x 4 columns]"
      ]
     },
     "execution_count": 1,
     "metadata": {
      "tags": []
     },
     "output_type": "execute_result"
    }
   ],
   "source": [
    "import pandas as pd\n",
    "\n",
    "df = pd.read_csv('/content/train.csv')\n",
    "df.head()"
   ]
  },
  {
   "cell_type": "markdown",
   "metadata": {
    "id": "M2VbRsHPUcEA"
   },
   "source": [
    "Предобработка текста может сказываться на качестве вашей модели.\n",
    "Сделаем небольшой препроцессинг текстов: удалим знаки препинания, приведем все слова к нижнему регистру. \n",
    "Однако можно не ограничиваться этим набором преобразований. Подумайте, что еще можно сделать с текстами, чтобы помочь будущим моделям? Добавьте преобразования, которые могли бы помочь по вашему мнению."
   ]
  },
  {
   "cell_type": "markdown",
   "metadata": {
    "id": "spK9tjkmUcEB"
   },
   "source": [
    "Также мы добавили разбиение текстов на токены. Теперь каждая строка-ревью стала массивом токенов."
   ]
  },
  {
   "cell_type": "code",
   "execution_count": 2,
   "metadata": {
    "colab": {
     "base_uri": "https://localhost:8080/"
    },
    "id": "i1y6NciiUcEI",
    "outputId": "f251e80c-1779-4d0c-b9df-cbf459068124"
   },
   "outputs": [
    {
     "name": "stdout",
     "output_type": "stream",
     "text": [
      "[nltk_data] Downloading package punkt to /root/nltk_data...\n",
      "[nltk_data]   Package punkt is already up-to-date!\n",
      "[nltk_data] Downloading package stopwords to /root/nltk_data...\n",
      "[nltk_data]   Package stopwords is already up-to-date!\n"
     ]
    }
   ],
   "source": [
    "import string\n",
    "\n",
    "import nltk\n",
    "nltk.download('punkt')\n",
    "nltk.download('stopwords')\n",
    "\n",
    "from nltk.tokenize import word_tokenize\n",
    "from nltk.corpus import stopwords\n",
    "\n",
    "noise = ['the', 'a', 'an', 'at', 'and', 'for', 'of', 'or', 'on', 'in', 'to', 'this', 'that', 'be', 'there', 'is', 'was', 'are', 'were',\n",
    "         'i', 'me', 'we', 'as', 'it', 'by', 'so', 'from', 'my', 'with']\n",
    "exclude = set(string.punctuation)\n",
    "#exclude.update(noise)\n",
    "stop_words = stopwords.words('english')\n",
    "#stop_words.remove('no')\n",
    "#stop_words.remove('not')\n",
    "#stop_words.append('negative')\n",
    "exclude.update(stop_words)\n",
    "\n",
    "def process_text(text):\n",
    "    return ' '.join([word for word in word_tokenize(text.lower()) if word not in exclude])\n",
    "\n",
    "def process_text2tokens(text):\n",
    "    return [word for word in word_tokenize(text.lower()) if word not in exclude]"
   ]
  },
  {
   "cell_type": "code",
   "execution_count": 4,
   "metadata": {
    "id": "11urK-zyUcEJ"
   },
   "outputs": [],
   "source": [
    "#df['negative'] = df['negative'].apply(process_text)\n",
    "#df['positive'] = df['positive'].apply(process_text)"
   ]
  },
  {
   "cell_type": "code",
   "execution_count": 3,
   "metadata": {
    "id": "pbOpfgYz_Qm2"
   },
   "outputs": [],
   "source": [
    "df['review'] = df['negative'] + ' ' + df['positive']\n",
    "#df['review'] = str(df['review'])\n",
    "df['tokens'] = df['review'].apply(process_text2tokens)\n",
    "df['review'] = df['review'].apply(process_text)"
   ]
  },
  {
   "cell_type": "code",
   "execution_count": 4,
   "metadata": {
    "id": "1XmO4RpyUcEK"
   },
   "outputs": [],
   "source": [
    "from sklearn.model_selection import train_test_split\n",
    "\n",
    "df_train, df_test = train_test_split(df)"
   ]
  },
  {
   "cell_type": "code",
   "execution_count": 5,
   "metadata": {
    "colab": {
     "base_uri": "https://localhost:8080/",
     "height": 249
    },
    "id": "-cvet03DO56S",
    "outputId": "4f3fb046-06a5-47af-e2b4-b06b843a6ada"
   },
   "outputs": [
    {
     "data": {
      "text/html": [
       "<div>\n",
       "<style scoped>\n",
       "    .dataframe tbody tr th:only-of-type {\n",
       "        vertical-align: middle;\n",
       "    }\n",
       "\n",
       "    .dataframe tbody tr th {\n",
       "        vertical-align: top;\n",
       "    }\n",
       "\n",
       "    .dataframe thead th {\n",
       "        text-align: right;\n",
       "    }\n",
       "</style>\n",
       "<table border=\"1\" class=\"dataframe\">\n",
       "  <thead>\n",
       "    <tr style=\"text-align: right;\">\n",
       "      <th></th>\n",
       "      <th>review_id</th>\n",
       "      <th>negative</th>\n",
       "      <th>positive</th>\n",
       "      <th>score</th>\n",
       "      <th>review</th>\n",
       "      <th>tokens</th>\n",
       "    </tr>\n",
       "  </thead>\n",
       "  <tbody>\n",
       "    <tr>\n",
       "      <th>90356</th>\n",
       "      <td>e72b6c270b897b5eab79e6a34ee9f93c</td>\n",
       "      <td>No Negative</td>\n",
       "      <td>ALWAYS GOOD</td>\n",
       "      <td>10.0</td>\n",
       "      <td>negative always good</td>\n",
       "      <td>[negative, always, good]</td>\n",
       "    </tr>\n",
       "    <tr>\n",
       "      <th>53534</th>\n",
       "      <td>88ff7bdd6ac37329d17a3d02c67b9de3</td>\n",
       "      <td>The hotel is close to the tube That means it ...</td>\n",
       "      <td>The location is fabulous if you are looking f...</td>\n",
       "      <td>9.2</td>\n",
       "      <td>hotel close tube means super convenient totall...</td>\n",
       "      <td>[hotel, close, tube, means, super, convenient,...</td>\n",
       "    </tr>\n",
       "    <tr>\n",
       "      <th>89707</th>\n",
       "      <td>e57511e30ae172d719253017a4b23163</td>\n",
       "      <td>No Negative</td>\n",
       "      <td>Excellent location friendly helpful staff</td>\n",
       "      <td>10.0</td>\n",
       "      <td>negative excellent location friendly helpful s...</td>\n",
       "      <td>[negative, excellent, location, friendly, help...</td>\n",
       "    </tr>\n",
       "    <tr>\n",
       "      <th>40800</th>\n",
       "      <td>68ae7309f46ac65ee90656198c95d84e</td>\n",
       "      <td>When we checked in the first room was smelly ...</td>\n",
       "      <td>Italian restaurant food was good</td>\n",
       "      <td>4.6</td>\n",
       "      <td>checked first room smelly took hour hotel allo...</td>\n",
       "      <td>[checked, first, room, smelly, took, hour, hot...</td>\n",
       "    </tr>\n",
       "    <tr>\n",
       "      <th>28767</th>\n",
       "      <td>4a11cb3136fbfc9c41f9c7c689821e6d</td>\n",
       "      <td>Four steps up to the lift</td>\n",
       "      <td>Great location and very clean</td>\n",
       "      <td>9.6</td>\n",
       "      <td>four steps lift great location clean</td>\n",
       "      <td>[four, steps, lift, great, location, clean]</td>\n",
       "    </tr>\n",
       "  </tbody>\n",
       "</table>\n",
       "</div>"
      ],
      "text/plain": [
       "                              review_id  ...                                             tokens\n",
       "90356  e72b6c270b897b5eab79e6a34ee9f93c  ...                           [negative, always, good]\n",
       "53534  88ff7bdd6ac37329d17a3d02c67b9de3  ...  [hotel, close, tube, means, super, convenient,...\n",
       "89707  e57511e30ae172d719253017a4b23163  ...  [negative, excellent, location, friendly, help...\n",
       "40800  68ae7309f46ac65ee90656198c95d84e  ...  [checked, first, room, smelly, took, hour, hot...\n",
       "28767  4a11cb3136fbfc9c41f9c7c689821e6d  ...        [four, steps, lift, great, location, clean]\n",
       "\n",
       "[5 rows x 6 columns]"
      ]
     },
     "execution_count": 5,
     "metadata": {
      "tags": []
     },
     "output_type": "execute_result"
    }
   ],
   "source": [
    "df_train.head()"
   ]
  },
  {
   "cell_type": "markdown",
   "metadata": {
    "id": "Cl0_RSuBUcEL"
   },
   "source": [
    "### Часть 1. 1 балл"
   ]
  },
  {
   "cell_type": "markdown",
   "metadata": {
    "id": "JG90yT9oUcEM"
   },
   "source": [
    "Обучите логистическую регрессию на TF-IDF векторах текстов."
   ]
  },
  {
   "cell_type": "code",
   "execution_count": 8,
   "metadata": {
    "id": "bi02J8HYUcEN"
   },
   "outputs": [],
   "source": [
    "from sklearn.feature_extraction.text import TfidfVectorizer\n",
    "from sklearn.linear_model import LogisticRegression, LinearRegression"
   ]
  },
  {
   "cell_type": "code",
   "execution_count": 9,
   "metadata": {
    "id": "XjIRVXUCuAr9"
   },
   "outputs": [],
   "source": [
    "tfidf = TfidfVectorizer(min_df=50, max_features=50000).fit(list(df_train['review']))"
   ]
  },
  {
   "cell_type": "code",
   "execution_count": 10,
   "metadata": {
    "id": "wBHAybboJ84f"
   },
   "outputs": [],
   "source": [
    "train_x = tfidf.transform(list(df_train['review']))\n",
    "train_y = df_train['score']"
   ]
  },
  {
   "cell_type": "code",
   "execution_count": 11,
   "metadata": {
    "id": "xCdnSUalLUqn"
   },
   "outputs": [],
   "source": [
    "test_x = tfidf.transform(list(df_test['review']))\n",
    "test_y = df_test['score']"
   ]
  },
  {
   "cell_type": "code",
   "execution_count": 12,
   "metadata": {
    "id": "BjejNpSxp3kp"
   },
   "outputs": [],
   "source": [
    "lm = LinearRegression()"
   ]
  },
  {
   "cell_type": "code",
   "execution_count": 13,
   "metadata": {
    "colab": {
     "base_uri": "https://localhost:8080/"
    },
    "id": "mHbqWU7Op38g",
    "outputId": "8ccd94f0-1254-4e56-c78d-2a778c163285"
   },
   "outputs": [
    {
     "data": {
      "text/plain": [
       "LinearRegression(copy_X=True, fit_intercept=True, n_jobs=None, normalize=False)"
      ]
     },
     "execution_count": 13,
     "metadata": {
      "tags": []
     },
     "output_type": "execute_result"
    }
   ],
   "source": [
    "lm.fit(train_x, train_y)"
   ]
  },
  {
   "cell_type": "code",
   "execution_count": 14,
   "metadata": {
    "colab": {
     "base_uri": "https://localhost:8080/"
    },
    "id": "tLhjVNJEN3HT",
    "outputId": "dd7ce409-bd39-49ab-ebad-48100615d249"
   },
   "outputs": [
    {
     "data": {
      "text/plain": [
       "<1x2365 sparse matrix of type '<class 'numpy.float64'>'\n",
       "\twith 12 stored elements in Compressed Sparse Row format>"
      ]
     },
     "execution_count": 14,
     "metadata": {
      "tags": []
     },
     "output_type": "execute_result"
    }
   ],
   "source": [
    "train_x[0]"
   ]
  },
  {
   "cell_type": "code",
   "execution_count": 15,
   "metadata": {
    "id": "oo3WttTwLfpm"
   },
   "outputs": [],
   "source": [
    "y_pred = lm.predict(test_x)"
   ]
  },
  {
   "cell_type": "code",
   "execution_count": 16,
   "metadata": {
    "id": "32SjRYEEu2zt"
   },
   "outputs": [],
   "source": [
    "from sklearn.metrics import mean_absolute_error as MAE_score"
   ]
  },
  {
   "cell_type": "code",
   "execution_count": 17,
   "metadata": {
    "colab": {
     "base_uri": "https://localhost:8080/"
    },
    "id": "ERxOZ3qxLfgp",
    "outputId": "f7413813-9a49-4432-c047-a5abdbfe70cc"
   },
   "outputs": [
    {
     "data": {
      "text/plain": [
       "0.9045907127434957"
      ]
     },
     "execution_count": 17,
     "metadata": {
      "tags": []
     },
     "output_type": "execute_result"
    }
   ],
   "source": [
    "MAE_score(test_y, y_pred)"
   ]
  },
  {
   "cell_type": "markdown",
   "metadata": {
    "id": "nlvLo7LwAzm-"
   },
   "source": [
    "ура уже не 0 за дз"
   ]
  },
  {
   "cell_type": "markdown",
   "metadata": {
    "id": "aVmEE6QPUcEO"
   },
   "source": [
    "### Часть 2. 3 балла"
   ]
  },
  {
   "cell_type": "markdown",
   "metadata": {
    "id": "xrd-Shj5UcEP"
   },
   "source": [
    "Обучите логистическую регрессию на усредненных Word2Vec векторах. "
   ]
  },
  {
   "cell_type": "code",
   "execution_count": 18,
   "metadata": {
    "id": "BY8fElC-UcEP"
   },
   "outputs": [],
   "source": [
    "import gensim\n",
    "from gensim.models import Word2Vec\n",
    "import numpy as np"
   ]
  },
  {
   "cell_type": "code",
   "execution_count": 19,
   "metadata": {
    "id": "XKAgKCoI2sUU"
   },
   "outputs": [],
   "source": [
    "model = Word2Vec(list(df_train['tokens']), size=1000, min_count = 50)"
   ]
  },
  {
   "cell_type": "code",
   "execution_count": 20,
   "metadata": {
    "colab": {
     "base_uri": "https://localhost:8080/"
    },
    "id": "KyWAfkQNVELJ",
    "outputId": "7a919cf8-be91-44ac-c1bb-2254e972934a"
   },
   "outputs": [
    {
     "name": "stdout",
     "output_type": "stream",
     "text": [
      "0\n",
      "10000\n",
      "20000\n",
      "30000\n",
      "40000\n",
      "50000\n",
      "60000\n",
      "70000\n"
     ]
    }
   ],
   "source": [
    "def mean_vector(word2vec_model, string):\n",
    "    # remove out-of-vocabulary words\n",
    "    string = [word for word in string if word in word2vec_model.vocab]\n",
    "    if string:\n",
    "      return np.mean(word2vec_model[string], axis=0)\n",
    "    else:\n",
    "      return np.zeros(1000)\n",
    "\n",
    "trainx=[]\n",
    "i = 0\n",
    "for string in df_train['tokens']:\n",
    "    trainx.append(mean_vector(model.wv, string))\n",
    "    if i % 10000 == 0:\n",
    "      print(i)\n",
    "    i+=1\n",
    "\n",
    "train_X = np.array(trainx)"
   ]
  },
  {
   "cell_type": "code",
   "execution_count": 21,
   "metadata": {
    "colab": {
     "base_uri": "https://localhost:8080/"
    },
    "id": "XB3PkkBcka25",
    "outputId": "6b60befb-1176-4217-cd93-908d0d43cbaf"
   },
   "outputs": [
    {
     "name": "stdout",
     "output_type": "stream",
     "text": [
      "0\n",
      "10000\n",
      "20000\n"
     ]
    }
   ],
   "source": [
    "testx=[]\n",
    "i = 0\n",
    "for string in df_test['tokens']:\n",
    "    testx.append(mean_vector(model.wv, string))\n",
    "    if i % 10000 == 0:\n",
    "      print(i)\n",
    "    i+=1\n",
    "\n",
    "test_X = np.array(testx)"
   ]
  },
  {
   "cell_type": "code",
   "execution_count": 22,
   "metadata": {
    "colab": {
     "base_uri": "https://localhost:8080/"
    },
    "id": "9-mSr9h8kaxI",
    "outputId": "7135b02e-b51e-4f2f-a2d3-6a51321b3bb7"
   },
   "outputs": [
    {
     "data": {
      "text/plain": [
       "0.966234700883463"
      ]
     },
     "execution_count": 22,
     "metadata": {
      "tags": []
     },
     "output_type": "execute_result"
    }
   ],
   "source": [
    "lm.fit(train_X, train_y)\n",
    "y_pred = lm.predict(testx)\n",
    "MAE_score(test_y, y_pred)"
   ]
  },
  {
   "cell_type": "markdown",
   "metadata": {
    "id": "LveY9HAAi1iK"
   },
   "source": [
    "Штош получилось похуже чем на TF-IDF, но что поделать"
   ]
  },
  {
   "cell_type": "markdown",
   "metadata": {
    "id": "0TfzPE_hUcEP"
   },
   "source": [
    "Усредняя w2v вектора, мы предполагаем, что каждое слово имеет равноценный вклад в смысл предложения, однако это может быть не совсем так. Теперь попробуйте воспользоваться другой концепцией и перевзвесить слова при получении итогового эмбеддинга текста. В качестве весов используйте IDF (Inverse document frequency)"
   ]
  },
  {
   "cell_type": "code",
   "execution_count": 23,
   "metadata": {
    "id": "8tUlghhiwIDh"
   },
   "outputs": [],
   "source": [
    "idf_dict = dict(zip(tfidf.get_feature_names(), tfidf.idf_))"
   ]
  },
  {
   "cell_type": "code",
   "execution_count": 24,
   "metadata": {
    "id": "a34T0DlPUcEQ"
   },
   "outputs": [],
   "source": [
    "def calc_idf(texts):\n",
    "    texts = [ idf_dict[word] - 1 for word in texts]\n",
    "    return texts"
   ]
  },
  {
   "cell_type": "code",
   "execution_count": 25,
   "metadata": {
    "colab": {
     "base_uri": "https://localhost:8080/"
    },
    "id": "aZEESlq31Say",
    "outputId": "7267fa65-006e-4c0f-b30c-8036178fd290"
   },
   "outputs": [
    {
     "name": "stdout",
     "output_type": "stream",
     "text": [
      "0\n",
      "10000\n",
      "20000\n",
      "30000\n",
      "40000\n",
      "50000\n",
      "60000\n",
      "70000\n"
     ]
    }
   ],
   "source": [
    "trainx=[]\n",
    "i = 0\n",
    "\n",
    "for string in df_train['tokens']:\n",
    "    string = [word for word in string  if word in model.wv.vocab and str(word) in idf_dict]\n",
    "    if string:\n",
    "        idfs = calc_idf(string)\n",
    "        w2vs = model.wv[string]\n",
    "        strx = []\n",
    "        for ii in range(len(string)):\n",
    "            strx.append(w2vs[ii] * idfs[ii])\n",
    "                          \n",
    "        trainx.append(np.mean(strx, axis=0))\n",
    "    else:\n",
    "        trainx.append(np.zeros(1000))\n",
    "    \n",
    "    if i % 10000 == 0:\n",
    "      print(i)\n",
    "    i+=1"
   ]
  },
  {
   "cell_type": "code",
   "execution_count": 26,
   "metadata": {
    "colab": {
     "base_uri": "https://localhost:8080/"
    },
    "id": "7JVQRy8RAe8T",
    "outputId": "98d9407d-d1e5-4f8c-fc4d-9c0798bf5c9b"
   },
   "outputs": [
    {
     "name": "stdout",
     "output_type": "stream",
     "text": [
      "0\n",
      "10000\n",
      "20000\n"
     ]
    }
   ],
   "source": [
    "testx=[]\n",
    "i = 0\n",
    "\n",
    "for string in df_test['tokens']:\n",
    "    string = [word for word in string  if word in model.wv.vocab and str(word) in idf_dict]\n",
    "    if string:\n",
    "        idfs = calc_idf(string)\n",
    "        w2vs = model.wv[string]\n",
    "        strx = []\n",
    "        for ii in range(len(string)):\n",
    "            strx.append(w2vs[ii] * idfs[ii])\n",
    "                          \n",
    "        testx.append(np.mean(strx, axis=0))\n",
    "    else:\n",
    "        testx.append(np.zeros(1000))\n",
    "    \n",
    "    if i % 10000 == 0:\n",
    "      print(i)\n",
    "    i+=1"
   ]
  },
  {
   "cell_type": "code",
   "execution_count": 27,
   "metadata": {
    "id": "6h9yMHKRKiSV"
   },
   "outputs": [],
   "source": [
    "train_X = np.array(trainx)\n",
    "test_X = np.array(testx)"
   ]
  },
  {
   "cell_type": "code",
   "execution_count": 28,
   "metadata": {
    "colab": {
     "base_uri": "https://localhost:8080/"
    },
    "id": "qy5FGcHtAetn",
    "outputId": "cdafbd0a-dfea-488a-d4a0-9da269b647d5"
   },
   "outputs": [
    {
     "data": {
      "text/plain": [
       "0.9659285655975172"
      ]
     },
     "execution_count": 28,
     "metadata": {
      "tags": []
     },
     "output_type": "execute_result"
    }
   ],
   "source": [
    "lm.fit(train_X, train_y)\n",
    "y_pred = lm.predict(test_X)\n",
    "MAE_score(test_y, y_pred)"
   ]
  },
  {
   "cell_type": "markdown",
   "metadata": {
    "id": "UKRBKmxABKR9"
   },
   "source": [
    "В принципе качество не сильно улучшилось, но скорее всего проблема в том что я все равно усреднял (из условия не вполне понятно надо ли это было делать) + не подбирал размер эмбеддинга"
   ]
  },
  {
   "cell_type": "markdown",
   "metadata": {
    "id": "3FBsgxBjUcER"
   },
   "source": [
    "Проведите эксперименты с размерностью эмбеддинга. Для каждого из двух методов постройте график зависимости качества модели от размерности эмбеддинга. \n",
    "#### Сделайте выводы:"
   ]
  },
  {
   "cell_type": "code",
   "execution_count": 29,
   "metadata": {
    "id": "iLn_CckjNXnz"
   },
   "outputs": [],
   "source": [
    "def mean_vector(word2vec_model, string, e):\n",
    "    string = [word for word in string if word in word2vec_model.vocab]\n",
    "    if string:\n",
    "      return np.mean(word2vec_model[string], axis=0)\n",
    "    else:\n",
    "      return np.zeros(e)\n",
    "\n",
    "\n",
    "def textembedding1(w2vmodel, text, e):\n",
    "    res = []\n",
    "    i = 0\n",
    "    for string in text:\n",
    "        res.append(mean_vector(w2vmodel.wv, string, e))\n",
    "    \n",
    "        #if i % 10000 == 0:\n",
    "        #    print(i)\n",
    "        #i+=1\n",
    "\n",
    "    return np.array(res)\n",
    "\n",
    "def textembedding2(w2vmodel, text, e):\n",
    "    res = []\n",
    "    i = 0\n",
    "    for string in text:\n",
    "        string = [word for word in string  if word in w2vmodel.wv.vocab and str(word) in idf_dict]\n",
    "        if string:\n",
    "            idfs = calc_idf(string)\n",
    "            w2vs = w2vmodel.wv[string]\n",
    "            strx = []\n",
    "            for ii in range(len(string)):\n",
    "                strx.append(w2vs[ii] * idfs[ii])\n",
    "                          \n",
    "            res.append(np.mean(strx, axis=0))\n",
    "        else:\n",
    "            res.append(np.zeros(e))\n",
    "    \n",
    "        #if i % 10000 == 0:\n",
    "        #    print(i)\n",
    "        #i+=1\n",
    "\n",
    "    return np.array(res)\n"
   ]
  },
  {
   "cell_type": "code",
   "execution_count": 30,
   "metadata": {
    "colab": {
     "base_uri": "https://localhost:8080/"
    },
    "id": "k8kU3Db0Qivm",
    "outputId": "3a67ddc8-e5a7-40df-8b08-f009967a94ca"
   },
   "outputs": [
    {
     "name": "stdout",
     "output_type": "stream",
     "text": [
      "Embedding:  100\n",
      "mean w2v MAE: 1.0117697620964856\n",
      "IDF w2v MAE: 1.0099438899219475\n",
      "Embedding:  200\n",
      "mean w2v MAE: 0.9928280232720971\n",
      "IDF w2v MAE: 0.991608396073197\n",
      "Embedding:  300\n",
      "mean w2v MAE: 0.9839783812040752\n",
      "IDF w2v MAE: 0.980652526683772\n",
      "Embedding:  400\n",
      "mean w2v MAE: 0.9802495335563386\n",
      "IDF w2v MAE: 0.9779603412820319\n",
      "Embedding:  500\n",
      "mean w2v MAE: 0.9761492705804202\n",
      "IDF w2v MAE: 0.9748739077829126\n",
      "Embedding:  600\n",
      "mean w2v MAE: 0.973727697927954\n",
      "IDF w2v MAE: 0.9719845684899494\n",
      "Embedding:  700\n",
      "mean w2v MAE: 0.972539121813073\n",
      "IDF w2v MAE: 0.9719684582473583\n",
      "Embedding:  800\n",
      "mean w2v MAE: 0.9694097229834927\n",
      "IDF w2v MAE: 0.9684561917234308\n",
      "Embedding:  900\n",
      "mean w2v MAE: 0.9678558577705466\n",
      "IDF w2v MAE: 0.9671074201380211\n",
      "Embedding:  1000\n",
      "mean w2v MAE: 0.965329872882617\n",
      "IDF w2v MAE: 0.9648317458431299\n",
      "Embedding:  1100\n",
      "mean w2v MAE: 0.9643625987311143\n",
      "IDF w2v MAE: 0.9638742746952393\n",
      "Embedding:  1200\n",
      "mean w2v MAE: 0.9624001737133279\n",
      "IDF w2v MAE: 0.9617261094765887\n",
      "Embedding:  1300\n",
      "mean w2v MAE: 0.9618490703696136\n",
      "IDF w2v MAE: 0.960841307673016\n",
      "Embedding:  1400\n",
      "mean w2v MAE: 0.9619694456327407\n",
      "IDF w2v MAE: 0.9615641860689114\n",
      "Embedding:  1500\n",
      "mean w2v MAE: 0.9611661596847833\n",
      "IDF w2v MAE: 0.9608200468979734\n"
     ]
    }
   ],
   "source": [
    "history_m = []\n",
    "history_im = []\n",
    "\n",
    "for i in range(100, 1600, 100):\n",
    "    print('Embedding: ', i)\n",
    "\n",
    "    model_i = Word2Vec(list(df_train['tokens']), size=i, min_count = 50)\n",
    "\n",
    "    train_x_m = textembedding1(model_i, df_train['tokens'], i)\n",
    "    test_x_m = textembedding1(model_i, df_test['tokens'], i)\n",
    "    lm.fit(train_x_m, train_y)\n",
    "    y_pred_m = lm.predict(test_x_m)\n",
    "    m1 = MAE_score(test_y, y_pred_m)\n",
    "    print('mean w2v MAE:', m1)\n",
    "    history_m.append(m1)\n",
    "\n",
    "    train_x_mi = textembedding2(model_i, df_train['tokens'], i)\n",
    "    test_x_mi = textembedding2(model_i, df_test['tokens'], i)\n",
    "    lm.fit(train_x_mi, train_y)\n",
    "    y_pred_mi = lm.predict(test_x_mi)\n",
    "    m2 = MAE_score(test_y, y_pred_mi)\n",
    "    print('IDF w2v MAE:', m2)\n",
    "    history_im.append(m2)\n"
   ]
  },
  {
   "cell_type": "code",
   "execution_count": 31,
   "metadata": {
    "colab": {
     "base_uri": "https://localhost:8080/",
     "height": 279
    },
    "id": "pebtVyedQipc",
    "outputId": "7e66fa3d-d44d-4a35-fafc-3d06c463a47f"
   },
   "outputs": [
    {
     "data": {
      "image/png": "[encoded data removed]",
      "text/plain": [
       "<Figure size 432x288 with 1 Axes>"
      ]
     },
     "metadata": {
      "needs_background": "light",
      "tags": []
     },
     "output_type": "display_data"
    }
   ],
   "source": [
    "import matplotlib.pyplot as plt\n",
    "ticks = list(range(100, 1600, 100))\n",
    "plt.plot(ticks, history_m, label = \"Mean w2v\")\n",
    "plt.plot(ticks, history_im, label = \"IDF w2v\")\n",
    "plt.legend()\n",
    "plt.xlabel(\"Embedding size\")\n",
    "plt.ylabel(\"MAE score\");"
   ]
  },
  {
   "cell_type": "markdown",
   "metadata": {
    "id": "wxn2Pz_QZEs0"
   },
   "source": [
    "Можно увидеть что с увеличением эмбеддинга качество растет, но медленно. При этом IDF в среднем показывает чуть лучшие результаты"
   ]
  },
  {
   "cell_type": "markdown",
   "metadata": {
    "id": "lfWoDI_SUcER"
   },
   "source": [
    "Теперь попробуйте обучить логистическую регрессию на любых других эмбеддингах размерности 300 и сравните качество с Word2Vec.\n",
    "#### Выводы:"
   ]
  },
  {
   "cell_type": "code",
   "execution_count": 32,
   "metadata": {
    "id": "G2sOYLFOQhs3"
   },
   "outputs": [],
   "source": [
    "from gensim.models import FastText"
   ]
  },
  {
   "cell_type": "code",
   "execution_count": 33,
   "metadata": {
    "id": "q1fUr4SFQhnp"
   },
   "outputs": [],
   "source": [
    "modelft = FastText(list(df_train['tokens']), size=300, min_count=50)"
   ]
  },
  {
   "cell_type": "code",
   "execution_count": 34,
   "metadata": {
    "colab": {
     "base_uri": "https://localhost:8080/"
    },
    "id": "_RgRZ_gVezEQ",
    "outputId": "1af88d5c-eabc-4436-cdbc-016255eb4cc5"
   },
   "outputs": [
    {
     "data": {
      "text/plain": [
       "0.9911032724303668"
      ]
     },
     "execution_count": 34,
     "metadata": {
      "tags": []
     },
     "output_type": "execute_result"
    }
   ],
   "source": [
    "train_x_f = textembedding1(modelft, df_train['tokens'], 300)\n",
    "test_x_f = textembedding1(modelft, df_test['tokens'], 300)\n",
    "lm.fit(train_x_f, train_y)\n",
    "y_pred_f = lm.predict(test_x_f)\n",
    "MAE_score(test_y, y_pred_f)"
   ]
  },
  {
   "cell_type": "markdown",
   "metadata": {
    "id": "bv8RWthJjVB1"
   },
   "source": [
    "Если сравнить это с показателями модели на усредненных word2vec, то качество практически не отличается\n",
    "\n",
    "Embedding:  300\n",
    "\n",
    "mean w2v MAE: 0.9838634660169936  "
   ]
  },
  {
   "cell_type": "markdown",
   "metadata": {
    "id": "a1uY_7baUcER"
   },
   "source": [
    "### Часть 3. 6 баллов"
   ]
  },
  {
   "cell_type": "markdown",
   "metadata": {
    "id": "2xcHo2fIUcES"
   },
   "source": [
    "Теперь давайте воспользуемся более продвинутыми методами обработки текстовых данных, которые мы проходили в нашем курсе. Обучите RNN/Transformer для предсказания пользовательской оценки. Получите ошибку меньше, чем во всех вышеперечисленных методах."
   ]
  },
  {
   "cell_type": "markdown",
   "metadata": {
    "id": "7t-FqnI1UcES"
   },
   "source": [
    "Если будете обучать RNN, попробуйте ограничить максимальную длину предложения. Некоторые отзывы могут быть слишком длинные относительно остальных.\n",
    "\n",
    "Чтобы пользоваться DataLoader, все его элементы должны быть одинаковой размерности. Для этого вы можете добавить нулевой паддинг ко всем предложениям (см пример pad_sequence)"
   ]
  },
  {
   "cell_type": "code",
   "execution_count": 6,
   "metadata": {
    "id": "Ens9bcEJUcES"
   },
   "outputs": [],
   "source": [
    "import torch\n",
    "from torch import nn\n",
    "from torch.nn import functional as F\n",
    "from collections import Counter\n",
    "import numpy as np"
   ]
  },
  {
   "cell_type": "code",
   "execution_count": 36,
   "metadata": {
    "id": "HOmxvndrUcET"
   },
   "outputs": [],
   "source": [
    "#WORDS = set()\n",
    "#for sent in list(df['positive']):\n",
    "#    for w in sent:\n",
    "#        WORDS.add(w)\n",
    "\n",
    "#for sent in list(df['negative']):\n",
    "#    for w in sent:\n",
    "#        WORDS.add(w)"
   ]
  },
  {
   "cell_type": "code",
   "execution_count": 7,
   "metadata": {
    "colab": {
     "base_uri": "https://localhost:8080/"
    },
    "id": "jEO9xRmcEDbJ",
    "outputId": "70f7c152-4bda-4aed-8c1d-be87e93592b0"
   },
   "outputs": [
    {
     "data": {
      "text/plain": [
       "18.88795"
      ]
     },
     "execution_count": 7,
     "metadata": {
      "tags": []
     },
     "output_type": "execute_result"
    }
   ],
   "source": [
    "df['tokens'].apply(len).mean()"
   ]
  },
  {
   "cell_type": "code",
   "execution_count": 8,
   "metadata": {
    "id": "2FmAC0ygSWD6"
   },
   "outputs": [],
   "source": [
    "df = df[df['tokens'].apply(len) < 15]"
   ]
  },
  {
   "cell_type": "code",
   "execution_count": 9,
   "metadata": {
    "id": "xB6gLseJLJfX"
   },
   "outputs": [],
   "source": [
    "df = df[df['tokens'].apply(len) > 0]"
   ]
  },
  {
   "cell_type": "code",
   "execution_count": 10,
   "metadata": {
    "colab": {
     "base_uri": "https://localhost:8080/"
    },
    "id": "059jG__CNPL4",
    "outputId": "16f2310d-efc4-4112-d839-3d3be89c6edb"
   },
   "outputs": [
    {
     "data": {
      "text/plain": [
       "99991      [nothing, comfortable, rooms, wonderful, place]\n",
       "99992    [negative, lication, quite, good, facilities, ...\n",
       "99993    [room, tiny, bed, small, two, ac, noisy, locat...\n",
       "99997    [terrible, worn, mattress, dust, behind, headb...\n",
       "99999    [negative, great, breakfast, rooms, clean, loc...\n",
       "Name: tokens, dtype: object"
      ]
     },
     "execution_count": 10,
     "metadata": {
      "tags": []
     },
     "output_type": "execute_result"
    }
   ],
   "source": [
    "df['tokens'][-5:]"
   ]
  },
  {
   "cell_type": "code",
   "execution_count": 11,
   "metadata": {
    "colab": {
     "base_uri": "https://localhost:8080/"
    },
    "id": "yRPjgkSVMblI",
    "outputId": "e8521974-b9b6-4437-df84-e663789b6ac5"
   },
   "outputs": [
    {
     "data": {
      "text/plain": [
       "7.828974288084048"
      ]
     },
     "execution_count": 11,
     "metadata": {
      "tags": []
     },
     "output_type": "execute_result"
    }
   ],
   "source": [
    "df['tokens'].apply(len).mean()"
   ]
  },
  {
   "cell_type": "code",
   "execution_count": 12,
   "metadata": {
    "id": "QxTdaZ-8Qmfz"
   },
   "outputs": [],
   "source": [
    "WORDS = set()\n",
    "\n",
    "for sent in df['tokens']:\n",
    "  for w in sent:\n",
    "    WORDS.add(w)"
   ]
  },
  {
   "cell_type": "code",
   "execution_count": 13,
   "metadata": {
    "id": "SsxsLrF2UcEa"
   },
   "outputs": [],
   "source": [
    "int2word = dict(enumerate(tuple(WORDS)))\n",
    "word2int = {w: ii for ii, w in int2word.items()}"
   ]
  },
  {
   "cell_type": "code",
   "execution_count": 14,
   "metadata": {
    "id": "E4PblXajUcEc"
   },
   "outputs": [],
   "source": [
    "#MAX_LEN = max(max(df['positive'].apply(len)), max(df['negative'].apply(len)))\n",
    "MAX_LEN = max(df['tokens'].apply(len))"
   ]
  },
  {
   "cell_type": "code",
   "execution_count": 15,
   "metadata": {
    "colab": {
     "base_uri": "https://localhost:8080/"
    },
    "id": "0UaBtz9cQzli",
    "outputId": "43983402-4750-439d-99df-4c64bdaae9d8"
   },
   "outputs": [
    {
     "data": {
      "text/plain": [
       "14"
      ]
     },
     "execution_count": 15,
     "metadata": {
      "tags": []
     },
     "output_type": "execute_result"
    }
   ],
   "source": [
    "MAX_LEN"
   ]
  },
  {
   "cell_type": "code",
   "execution_count": 16,
   "metadata": {
    "id": "vInnp7jWUcEe"
   },
   "outputs": [],
   "source": [
    "from torch.nn.utils.rnn import pad_sequence\n",
    "\n",
    "df['pos_pad'] = pad_sequence([torch.as_tensor([word2int[w] for w in seq][:MAX_LEN]) for seq in df['tokens']], \n",
    "                           batch_first=True)"
   ]
  },
  {
   "cell_type": "code",
   "execution_count": 17,
   "metadata": {
    "id": "qGvY1HWgESr4"
   },
   "outputs": [],
   "source": [
    "reviews_ints = []\n",
    "for review in df['tokens']:\n",
    "    reviews_ints.append([word2int[word] for word in review])"
   ]
  },
  {
   "cell_type": "code",
   "execution_count": 18,
   "metadata": {
    "id": "bx5-HGFPJlpC"
   },
   "outputs": [],
   "source": [
    "def pad_features(reviews_ints, seq_length):\n",
    "    ''' Return features of review_ints, where each review is padded with 0's \n",
    "        or truncated to the input seq_length.\n",
    "    '''\n",
    "    \n",
    "    # getting the correct rows x cols shape\n",
    "    features = np.zeros((len(reviews_ints), seq_length), dtype=int)\n",
    "\n",
    "    # for each review, I grab that review and \n",
    "    for i, row in enumerate(reviews_ints):\n",
    "        features[i, -len(row):] = np.array(row)[:seq_length]\n",
    "    \n",
    "    return features"
   ]
  },
  {
   "cell_type": "code",
   "execution_count": 19,
   "metadata": {
    "id": "6v7LHIIAJDg8"
   },
   "outputs": [],
   "source": [
    "pos_pad = pad_features(reviews_ints, seq_length=MAX_LEN)"
   ]
  },
  {
   "cell_type": "code",
   "execution_count": 23,
   "metadata": {
    "colab": {
     "base_uri": "https://localhost:8080/"
    },
    "id": "qEpQ1fyoETyQ",
    "outputId": "ab5f60cb-c785-4b89-effd-d37a0d7604c3"
   },
   "outputs": [
    {
     "data": {
      "text/plain": [
       "array([[0, 0, 0, 0, 0, 0, 0, 0, 0, 0],\n",
       "       [0, 0, 0, 0, 0, 0, 0, 0, 0, 0]])"
      ]
     },
     "execution_count": 23,
     "metadata": {
      "tags": []
     },
     "output_type": "execute_result"
    }
   ],
   "source": [
    "pos_pad[:2,:10]"
   ]
  },
  {
   "cell_type": "code",
   "execution_count": 24,
   "metadata": {
    "id": "8R5e7vSKEVJW"
   },
   "outputs": [],
   "source": [
    "y = np.array(df['score'])"
   ]
  },
  {
   "cell_type": "code",
   "execution_count": 25,
   "metadata": {
    "colab": {
     "base_uri": "https://localhost:8080/"
    },
    "id": "dOmM52SqEVGS",
    "outputId": "5267393e-dfbc-41b9-ebf6-1c5434ed826c"
   },
   "outputs": [
    {
     "data": {
      "text/plain": [
       "array([ 7.1,  7.5, 10. , ...,  5.4,  5. , 10. ])"
      ]
     },
     "execution_count": 25,
     "metadata": {
      "tags": []
     },
     "output_type": "execute_result"
    }
   ],
   "source": [
    "y"
   ]
  },
  {
   "cell_type": "code",
   "execution_count": 26,
   "metadata": {
    "id": "rbQ5Rqk_EVDO"
   },
   "outputs": [],
   "source": [
    "X_train, X_test, y_train, y_test = train_test_split(pos_pad, y)"
   ]
  },
  {
   "cell_type": "markdown",
   "metadata": {
    "id": "s23JNSiuKun6"
   },
   "source": [
    "Все это было нужно чтобы не писать самому датасет, да"
   ]
  },
  {
   "cell_type": "code",
   "execution_count": 27,
   "metadata": {
    "id": "SDY_qtBgKuWq"
   },
   "outputs": [],
   "source": [
    "from torch.utils.data import TensorDataset, DataLoader\n",
    "\n",
    "\n",
    "train_data = TensorDataset(torch.from_numpy(X_train), torch.from_numpy(y_train))\n",
    "test_data = TensorDataset(torch.from_numpy(X_test), torch.from_numpy(y_test))\n",
    "\n",
    "\n",
    "batch_size = 1000\n",
    "\n",
    "train_loader = DataLoader(train_data, shuffle=True, batch_size=batch_size)\n",
    "test_loader = DataLoader(test_data, shuffle=True, batch_size=batch_size)"
   ]
  },
  {
   "cell_type": "code",
   "execution_count": 28,
   "metadata": {
    "id": "DNGq9AZvLj57"
   },
   "outputs": [],
   "source": [
    "train_on_gpu=torch.cuda.is_available()"
   ]
  },
  {
   "cell_type": "code",
   "execution_count": 45,
   "metadata": {
    "id": "r88zjNIyLj1i"
   },
   "outputs": [],
   "source": [
    "class SentimentRNN(nn.Module):\n",
    "    \"\"\"\n",
    "    The RNN model that will be used to perform Sentiment analysis.\n",
    "    \"\"\"\n",
    "\n",
    "    def __init__(self, vocab_size, output_size, embedding_dim, hidden_dim, n_layers, drop_prob=0.5):\n",
    "        \"\"\"\n",
    "        Initialize the model by setting up the layers.\n",
    "        \"\"\"\n",
    "        super(SentimentRNN, self).__init__()\n",
    "\n",
    "        self.output_size = output_size\n",
    "        self.n_layers = n_layers\n",
    "        self.hidden_dim = hidden_dim\n",
    "        \n",
    "        # embedding and LSTM layers\n",
    "        self.embedding = nn.Embedding(vocab_size, embedding_dim)\n",
    "        self.lstm = nn.LSTM(embedding_dim, hidden_dim, n_layers, \n",
    "                            dropout=drop_prob, batch_first=True)\n",
    "        \n",
    "        # dropout layer\n",
    "        self.dropout = nn.Dropout(0.3)\n",
    "        \n",
    "        # linear and sigmoid layers\n",
    "        self.fc = nn.Linear(hidden_dim, output_size)\n",
    "        \n",
    "\n",
    "    def forward(self, x, hidden):\n",
    "        \"\"\"\n",
    "        Perform a forward pass of our model on some input and hidden state.\n",
    "        \"\"\"\n",
    "        batch_size = x.size(0)\n",
    "\n",
    "        # embeddings and lstm_out\n",
    "        embeds = self.embedding(x)\n",
    "        lstm_out, hidden = self.lstm(embeds, hidden)\n",
    "    \n",
    "        # stack up lstm outputs\n",
    "        lstm_out = lstm_out.contiguous().view(-1, self.hidden_dim)\n",
    "        \n",
    "        # dropout and fully-connected layer\n",
    "        out = self.dropout(lstm_out)\n",
    "        out = self.fc(out)\n",
    "        # sigmoid function\n",
    "        #sig_out = self.sig(out)\n",
    "        \n",
    "        # reshape to be batch_size first\n",
    "        #sig_out = sig_out.view(batch_size, -1)\n",
    "        #sig_out = sig_out[:, -1] # get last batch of labels\n",
    "        \n",
    "        # return last sigmoid output and hidden state\n",
    "        #return sig_out, hidden\n",
    "\n",
    "        out = out.view(batch_size, -1)\n",
    "        out= out[:,-1]\n",
    "        return out, hidden\n",
    "    \n",
    "    def init_hidden(self, batch_size):\n",
    "        ''' Initializes hidden state '''\n",
    "        # Create two new tensors with sizes n_layers x batch_size x hidden_dim,\n",
    "        # initialized to zero, for hidden state and cell state of LSTM\n",
    "        weight = next(self.parameters()).data\n",
    "        \n",
    "        if (train_on_gpu):\n",
    "            hidden = (weight.new(self.n_layers, batch_size, self.hidden_dim).zero_().cuda(),\n",
    "                  weight.new(self.n_layers, batch_size, self.hidden_dim).zero_().cuda())\n",
    "        else:\n",
    "            hidden = (weight.new(self.n_layers, batch_size, self.hidden_dim).zero_(),\n",
    "                      weight.new(self.n_layers, batch_size, self.hidden_dim).zero_())\n",
    "        \n",
    "        return hidden"
   ]
  },
  {
   "cell_type": "code",
   "execution_count": 49,
   "metadata": {
    "colab": {
     "base_uri": "https://localhost:8080/"
    },
    "id": "vZm_CfmrKuPp",
    "outputId": "4c6398cd-6e35-4ebd-eb47-4c99cff8dc33"
   },
   "outputs": [
    {
     "name": "stdout",
     "output_type": "stream",
     "text": [
      "SentimentRNN(\n",
      "  (embedding): Embedding(14120, 200)\n",
      "  (lstm): LSTM(200, 200, num_layers=2, batch_first=True, dropout=0.5)\n",
      "  (dropout): Dropout(p=0.3, inplace=False)\n",
      "  (fc): Linear(in_features=200, out_features=1, bias=True)\n",
      ")\n"
     ]
    }
   ],
   "source": [
    "vocab_size = len(word2int)\n",
    "output_size = 1\n",
    "embedding_dim = 200\n",
    "hidden_dim = 200\n",
    "n_layers = 2\n",
    "\n",
    "net = SentimentRNN(vocab_size, output_size, embedding_dim, hidden_dim, n_layers)\n",
    "print(net)"
   ]
  },
  {
   "cell_type": "code",
   "execution_count": 31,
   "metadata": {
    "id": "RvBbuD-2Mxe5"
   },
   "outputs": [],
   "source": [
    "lr=0.001\n",
    "\n",
    "criterion = nn.L1Loss()\n",
    "optimizer = torch.optim.Adam(net.parameters(), lr=lr)"
   ]
  },
  {
   "cell_type": "code",
   "execution_count": 51,
   "metadata": {
    "colab": {
     "base_uri": "https://localhost:8080/"
    },
    "id": "PXG6o-xKNMv9",
    "outputId": "54eb212c-efc2-4f73-c172-8656fbf61f0f"
   },
   "outputs": [
    {
     "name": "stdout",
     "output_type": "stream",
     "text": [
      "0\n",
      "1\n",
      "2\n",
      "3\n"
     ]
    }
   ],
   "source": [
    "epochs = 4 \n",
    "clip=5 \n",
    "\n",
    "if(train_on_gpu):\n",
    "    net.cuda()\n",
    "\n",
    "net.train()\n",
    "for e in range(epochs):\n",
    "    h = net.init_hidden(batch_size)\n",
    "   \n",
    "    for inputs, labels in train_loader:\n",
    "        \n",
    "        if(train_on_gpu):\n",
    "            inputs, labels = inputs.cuda(), labels.cuda()\n",
    "\n",
    "        h = tuple([each.data for each in h])\n",
    "\n",
    "        net.zero_grad()\n",
    "\n",
    "        output, h = net(inputs, h)\n",
    "\n",
    "\n",
    "        loss = criterion(output, labels)\n",
    "        loss.backward()\n",
    "        nn.utils.clip_grad_norm_(net.parameters(), clip)\n",
    "        optimizer.step()\n",
    "\n",
    "    print(e)"
   ]
  },
  {
   "cell_type": "code",
   "execution_count": 52,
   "metadata": {
    "id": "HGHYkY9xSBfp"
   },
   "outputs": [],
   "source": [
    "y_pred = []\n",
    "\n",
    "h = net.init_hidden(batch_size)\n",
    "\n",
    "net.eval()\n",
    "for inputs, labels in test_loader:\n",
    "\n",
    "    h = tuple([each.data for each in h])\n",
    "\n",
    "    if(train_on_gpu):\n",
    "        inputs, labels = inputs.cuda(), labels.cuda()\n",
    "    \n",
    "    output, h = net(inputs, h)\n",
    "    y_pred.append(output.squeeze().tolist())"
   ]
  },
  {
   "cell_type": "code",
   "execution_count": 55,
   "metadata": {
    "colab": {
     "base_uri": "https://localhost:8080/"
    },
    "id": "qxAjOx6nU8nI",
    "outputId": "f6687ef2-c94b-4cf4-bf67-3af2cd528a37"
   },
   "outputs": [
    {
     "data": {
      "text/plain": [
       "list"
      ]
     },
     "execution_count": 55,
     "metadata": {
      "tags": []
     },
     "output_type": "execute_result"
    }
   ],
   "source": [
    "type(y_pred[0])"
   ]
  },
  {
   "cell_type": "code",
   "execution_count": 56,
   "metadata": {
    "id": "oFGwMwHvVpVE"
   },
   "outputs": [],
   "source": [
    "import itertools\n",
    "preds = list(itertools.chain(*y_pred))"
   ]
  },
  {
   "cell_type": "code",
   "execution_count": 57,
   "metadata": {
    "id": "io3PkwTMVuim"
   },
   "outputs": [],
   "source": [
    "preds = np.array(preds)"
   ]
  },
  {
   "cell_type": "code",
   "execution_count": 59,
   "metadata": {
    "colab": {
     "base_uri": "https://localhost:8080/"
    },
    "id": "nfRNMEa0UjqT",
    "outputId": "75c4b1b3-c353-4c29-dcad-3f409ce7c2e8"
   },
   "outputs": [
    {
     "name": "stdout",
     "output_type": "stream",
     "text": [
      "0.9997635786589748\n"
     ]
    }
   ],
   "source": [
    "MAE_score(y_test, preds)"
   ]
  },
  {
   "cell_type": "markdown",
   "metadata": {
    "id": "dxCe-WTBLkik"
   },
   "source": [
    "Качество получилось так себе конечно, но используемая RNN модель изначально должна была предсказывать бинарную зависимую переменную и скорее всего я где-то накосячил когда переделывал ее для данной задачи"
   ]
  },
  {
   "cell_type": "code",
   "execution_count": null,
   "metadata": {
    "id": "JItjdYvdKuLE"
   },
   "outputs": [],
   "source": []
  },
  {
   "cell_type": "code",
   "execution_count": null,
   "metadata": {
    "id": "WSG6xlljJbYT"
   },
   "outputs": [],
   "source": [
    "def pos_pad(sequence):\n",
    "    return pad_sequence([torch.as_tensor([word2int[w] for w in seq][:MAX_LEN]) for seq in sequence], \n",
    "                           batch_first=True)"
   ]
  },
  {
   "cell_type": "code",
   "execution_count": 104,
   "metadata": {
    "id": "o5EeKiM8UcEf"
   },
   "outputs": [],
   "source": [
    "class ReviewsDataset(torch.utils.data.Dataset):\n",
    "    def __init__(self, df):\n",
    "        ## TODO\n",
    "        self.x = df['pos_pad']\n",
    "        self.y = df['score']\n",
    "        \n",
    "    def __len__(self):\n",
    "        ## TODO\n",
    "        return len(self.y)\n",
    "    \n",
    "    def __getitem__(self, idx):\n",
    "        ## TODO\n",
    "        string = self.x[idx]\n",
    "        label = self.y[idx]\n",
    "\n",
    "        return string, label"
   ]
  },
  {
   "cell_type": "code",
   "execution_count": 105,
   "metadata": {
    "id": "Vh5-U8aVUcEf"
   },
   "outputs": [],
   "source": [
    "batch_size = 1000\n",
    "\n",
    "train_dataset = ReviewsDataset(df_train)\n",
    "test_dataset = ReviewsDataset(df_test)\n",
    "\n",
    "train_dataloader = torch.utils.data.DataLoader(df_train, batch_size=batch_size)\n",
    "test_dataloader = torch.utils.data.DataLoader(df_test, batch_size=batch_size)"
   ]
  },
  {
   "cell_type": "code",
   "execution_count": null,
   "metadata": {
    "id": "7GCgILzrllS1"
   },
   "outputs": [],
   "source": []
  },
  {
   "cell_type": "code",
   "execution_count": null,
   "metadata": {
    "id": "RV3NXUIslEl1"
   },
   "outputs": [],
   "source": []
  },
  {
   "cell_type": "markdown",
   "metadata": {
    "id": "kl0SGgSjUcEj"
   },
   "source": [
    "### Бонус. 10 баллов\n",
    "\n",
    "Побейте качество 0.75 в [соревновании](https://www.kaggle.com/c/hseds-texts-2020/leaderboard). Можете воспользоваться вышеперечисленными методами или попробовать что-нибудь еще."
   ]
  },
  {
   "cell_type": "code",
   "execution_count": null,
   "metadata": {
    "id": "1LkIgtOKUcEk"
   },
   "outputs": [],
   "source": []
  }
 ],
 "metadata": {
  "accelerator": "GPU",
  "colab": {
   "collapsed_sections": [],
   "name": "hw3_Novikov.ipynb",
   "provenance": [],
   "toc_visible": true
  },
  "kernelspec": {
   "display_name": "Python 3",
   "language": "python",
   "name": "python3"
  },
  "language_info": {
   "codemirror_mode": {
    "name": "ipython",
    "version": 3
   },
   "file_extension": ".py",
   "mimetype": "text/x-python",
   "name": "python",
   "nbconvert_exporter": "python",
   "pygments_lexer": "ipython3",
   "version": "3.8.5"
  }
 },
 "nbformat": 4,
 "nbformat_minor": 1
}
