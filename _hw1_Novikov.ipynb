{
  "nbformat": 4,
  "nbformat_minor": 0,
  "metadata": {
    "accelerator": "GPU",
    "colab": {
      "name": "_hw1_Novikov_00.ipynb",
      "provenance": [],
      "collapsed_sections": [],
      "toc_visible": true
    },
    "kernelspec": {
      "display_name": "Python 3",
      "language": "python",
      "name": "python3"
    },
    "language_info": {
      "codemirror_mode": {
        "name": "ipython",
        "version": 3
      },
      "file_extension": ".py",
      "mimetype": "text/x-python",
      "name": "python",
      "nbconvert_exporter": "python",
      "pygments_lexer": "ipython3",
      "version": "3.8.5"
    }
  },
  "cells": [
    {
      "cell_type": "markdown",
      "metadata": {
        "id": "qplYz6vaKQzH"
      },
      "source": [
        "## Домашнее задание №1\n",
        "\n",
        "В этом домашнем задании вы познакомитесь с pytorch сами и сможете попрактиковаться в его применении. \n",
        "\n",
        "#### План:\n",
        "\n",
        "1. Простейшие операции в pytorch\n",
        "2. Пишем Adam и применяем его к ручной модели\n",
        "3. Обучаем свою первую нейросеть"
      ]
    },
    {
      "cell_type": "code",
      "metadata": {
        "id": "HwDmuIhWKQzO"
      },
      "source": [
        "import os\n",
        "import sys\n",
        "import math\n",
        "import torch\n",
        "import torchvision\n",
        "import random\n",
        "import numpy as np\n",
        "from tqdm import tqdm\n",
        "import torch.nn.functional as F\n",
        "import torch.nn as nn\n",
        "from torch.utils.data import DataLoader\n",
        "import torchvision.transforms as transforms\n",
        "import matplotlib.pyplot as plt"
      ],
      "execution_count": 1,
      "outputs": []
    },
    {
      "cell_type": "markdown",
      "metadata": {
        "id": "x8t6U60YKQzk"
      },
      "source": [
        "### Простейшие операции на pytorch (2 балла)"
      ]
    },
    {
      "cell_type": "markdown",
      "metadata": {
        "id": "-GWRG0lPKQzp"
      },
      "source": [
        "**Task**: Cоздайте два случайных тензора (двумерных, не квадратных):"
      ]
    },
    {
      "cell_type": "code",
      "metadata": {
        "id": "CyVZOZIaKQzw"
      },
      "source": [
        "x = torch.randn(5, 6)\n",
        "y = torch.randn(6, 3)"
      ],
      "execution_count": 2,
      "outputs": []
    },
    {
      "cell_type": "markdown",
      "metadata": {
        "id": "fq3dVwRnKQ0C"
      },
      "source": [
        "**Task**: Умножьте их друг на друга, результат запишите в третий тензор без использования оператора `=`:"
      ]
    },
    {
      "cell_type": "code",
      "metadata": {
        "id": "KoDasNOWKQ0G",
        "outputId": "7d22033b-6967-4c9e-a071-12bfa63df438",
        "colab": {
          "base_uri": "https://localhost:8080/"
        }
      },
      "source": [
        "z = torch.zeros(5,3)\n",
        "x @ y"
      ],
      "execution_count": 3,
      "outputs": [
        {
          "output_type": "execute_result",
          "data": {
            "text/plain": [
              "tensor([[ 1.0827,  2.1807, -0.7690],\n",
              "        [-6.0848, -1.4528,  1.9415],\n",
              "        [-1.0707, -5.2442,  6.8236],\n",
              "        [ 0.2964,  4.8306,  4.5893],\n",
              "        [-2.3965,  0.4962, -2.8341]])"
            ]
          },
          "metadata": {
            "tags": []
          },
          "execution_count": 3
        }
      ]
    },
    {
      "cell_type": "code",
      "metadata": {
        "id": "SRvTcRNPKQ0U",
        "outputId": "9ad5fdba-66ee-46d1-9398-91308ab5af78",
        "colab": {
          "base_uri": "https://localhost:8080/"
        }
      },
      "source": [
        "# your code here \n",
        "z.add(x @ y)"
      ],
      "execution_count": 4,
      "outputs": [
        {
          "output_type": "execute_result",
          "data": {
            "text/plain": [
              "tensor([[ 1.0827,  2.1807, -0.7690],\n",
              "        [-6.0848, -1.4528,  1.9415],\n",
              "        [-1.0707, -5.2442,  6.8236],\n",
              "        [ 0.2964,  4.8306,  4.5893],\n",
              "        [-2.3965,  0.4962, -2.8341]])"
            ]
          },
          "metadata": {
            "tags": []
          },
          "execution_count": 4
        }
      ]
    },
    {
      "cell_type": "markdown",
      "metadata": {
        "id": "Ou0P8AB9KQ0k"
      },
      "source": [
        "**Task**: Реализуйте ReLU использую только pytorch, примените его к тензору `x` (запрещено использование модулей torch.nn и его подмодулей, а также функции torch.relu)"
      ]
    },
    {
      "cell_type": "code",
      "metadata": {
        "id": "NNxkkRi-KQ0l"
      },
      "source": [
        "def relu_forward(x):\n",
        "    return x * (x > 0) + torch.zeros_like(x)\n",
        "\n",
        "assert torch.all(F.relu(x) == relu_forward(x))"
      ],
      "execution_count": 5,
      "outputs": []
    },
    {
      "cell_type": "markdown",
      "metadata": {
        "id": "HIdbeOwMKQ01"
      },
      "source": [
        "**Task**: Сделайте тоже самое c ELU (запрещено использование модулей torch.nn и его подмодулей):"
      ]
    },
    {
      "cell_type": "code",
      "metadata": {
        "id": "UwHYWf31KQ03"
      },
      "source": [
        "def elu_forward(x, alpha):\n",
        "    return x * (x > 0) + torch.min(torch.zeros_like(x),alpha*(torch.exp(x) - 1))\n",
        "\n",
        "assert torch.all(F.elu(x) == elu_forward(x, 1.0))"
      ],
      "execution_count": 6,
      "outputs": []
    },
    {
      "cell_type": "markdown",
      "metadata": {
        "id": "dFr3vrCaKQ1A"
      },
      "source": [
        "Тут я не понимаю почему он не всегда проходит assertation, потому что ответы до четырех знаков после запятой одинаковые:"
      ]
    },
    {
      "cell_type": "code",
      "metadata": {
        "id": "cKw79fhyKQ1C",
        "outputId": "71806f16-d692-432b-cb67-5adae57d437b",
        "colab": {
          "base_uri": "https://localhost:8080/"
        }
      },
      "source": [
        "F.elu(x)"
      ],
      "execution_count": 7,
      "outputs": [
        {
          "output_type": "execute_result",
          "data": {
            "text/plain": [
              "tensor([[ 0.2287,  1.0128,  0.0413, -0.8365,  1.6963,  2.3377],\n",
              "        [-0.4833,  0.9557, -0.7361,  1.6396, -0.7763, -0.8726],\n",
              "        [-0.6583,  3.0981,  1.3187,  0.8038,  1.8432,  0.6526],\n",
              "        [ 1.5910, -0.1520,  0.2492, -0.7012, -0.7078, -0.8525],\n",
              "        [-0.1045, -0.7134, -0.5997, -0.6096,  0.6414, -0.6844]])"
            ]
          },
          "metadata": {
            "tags": []
          },
          "execution_count": 7
        }
      ]
    },
    {
      "cell_type": "code",
      "metadata": {
        "id": "5lwk7y5qKQ1H",
        "outputId": "661b00eb-5358-4752-e961-65296274c80e",
        "colab": {
          "base_uri": "https://localhost:8080/"
        }
      },
      "source": [
        "elu_forward(x, 1)"
      ],
      "execution_count": 8,
      "outputs": [
        {
          "output_type": "execute_result",
          "data": {
            "text/plain": [
              "tensor([[ 0.2287,  1.0128,  0.0413, -0.8365,  1.6963,  2.3377],\n",
              "        [-0.4833,  0.9557, -0.7361,  1.6396, -0.7763, -0.8726],\n",
              "        [-0.6583,  3.0981,  1.3187,  0.8038,  1.8432,  0.6526],\n",
              "        [ 1.5910, -0.1520,  0.2492, -0.7012, -0.7078, -0.8525],\n",
              "        [-0.1045, -0.7134, -0.5997, -0.6096,  0.6414, -0.6844]])"
            ]
          },
          "metadata": {
            "tags": []
          },
          "execution_count": 8
        }
      ]
    },
    {
      "cell_type": "markdown",
      "metadata": {
        "id": "DSlWmvLBKQ1S"
      },
      "source": [
        "**Task**: LeakyReLU (запрещено использование модулей torch.nn и его подмодулей):"
      ]
    },
    {
      "cell_type": "code",
      "metadata": {
        "id": "hXZF2q8AKQ1T"
      },
      "source": [
        "def lrelu_forward(x, alpha):\n",
        "    return x * (x > 0) + torch.min(torch.zeros_like(x),alpha * x)\n",
        "\n",
        "assert torch.all(F.leaky_relu(x, 0.01) == lrelu_forward(x, 0.01))"
      ],
      "execution_count": 9,
      "outputs": []
    },
    {
      "cell_type": "markdown",
      "metadata": {
        "id": "307G0eDsKQ1d"
      },
      "source": [
        "**Task**: Теперь перейдем к немного более современным функциям активаций, например Mish, напомним как она выглядит:\n",
        "\n",
        "$$x * tanh(ln(1+e^x))$$\n",
        "\n",
        "(запрещено использование модулей torch.nn и его подмодулей)"
      ]
    },
    {
      "cell_type": "code",
      "metadata": {
        "id": "zsIwmch0KQ1g"
      },
      "source": [
        "def mish(x):\n",
        "    return x * torch.tanh(torch.log(1 + torch.exp(x)))"
      ],
      "execution_count": 10,
      "outputs": []
    },
    {
      "cell_type": "code",
      "metadata": {
        "id": "3Sricqf5KQ1q"
      },
      "source": [
        "assert torch.allclose(\n",
        "    mish(torch.tensor([1, 1, 1], dtype=torch.float32)), \n",
        "    torch.tensor([0.8651, 0.8651, 0.8651]), \n",
        "    atol=1e-4\n",
        ")\n",
        "\n",
        "assert torch.allclose(\n",
        "    mish(torch.tensor([0.6376, 0.4021, 0.6656, 0.3726], dtype=torch.float64)), \n",
        "    torch.tensor([0.5014, 0.2908, 0.5280, 0.2663], dtype=torch.float64), \n",
        "    atol=1e-4\n",
        ")"
      ],
      "execution_count": 11,
      "outputs": []
    },
    {
      "cell_type": "markdown",
      "metadata": {
        "id": "qwOfLI_0KQ12"
      },
      "source": [
        "**Task**: Теперь реализуем swish, напомним как она выглядит:\n",
        "\n",
        "$$x * \\sigma(x)$$\n",
        "\n",
        "(запрещено использование модулей torch.nn и его подмодулей)"
      ]
    },
    {
      "cell_type": "code",
      "metadata": {
        "id": "NaNSjsRMKQ14"
      },
      "source": [
        "def swish(x):\n",
        "    return x * torch.sigmoid(x)"
      ],
      "execution_count": 12,
      "outputs": []
    },
    {
      "cell_type": "code",
      "metadata": {
        "id": "KVCsPf33KQ2F"
      },
      "source": [
        "assert torch.allclose(\n",
        "    swish(torch.tensor([1, 1, 1], dtype=torch.float32)), \n",
        "    torch.tensor([0.7311, 0.7311, 0.7311]), \n",
        "    atol=1e-4\n",
        ")\n",
        "\n",
        "assert torch.allclose(\n",
        "    swish(torch.tensor([0.6376, 0.4021, 0.6656, 0.3726], dtype=torch.float64)), \n",
        "    torch.tensor([0.4171, 0.2409, 0.4396, 0.2206], dtype=torch.float64), \n",
        "    atol=1e-4\n",
        ")"
      ],
      "execution_count": 13,
      "outputs": []
    },
    {
      "cell_type": "markdown",
      "metadata": {
        "id": "rrkIzT1UKQ2O"
      },
      "source": [
        "### Пишем Adam и применяем его к линейной регрессии (4 балла)\n",
        "\n",
        "\n",
        "В данной секции вам нужно сделать две вещи: \n",
        "\n",
        "1. Написать свой собственный оптимизатор подобно тому, который мы писали на семинаре\n",
        "2. Обучить логистическую регрессию побатчево на картинках из датасета \n",
        "\n",
        "\n",
        "#### Adam\n",
        "\n",
        "\n",
        "$$\n",
        "\\begin{eqnarray}\n",
        "g &=& \\frac{1}{m}\\nabla_w \\sum_i L(f(x_{i};w), y_{i}) \\\\\n",
        "m &=& \\beta_1 m + (1 - \\beta_1) g \\\\\n",
        "v &=& \\beta_2 v + (1 - \\beta_2) diag(gg {T}) \\\\\n",
        "\\hat{m} &=& \\frac{m}{1 - \\beta_1 {t}} \\\\\n",
        "\\hat{v} &=& \\frac{v}{1 - \\beta_2 {t}} \\\\\n",
        "w &=& w - \\frac{\\eta}{\\sqrt{\\hat{v} + \\epsilon}} \\odot \\hat{m}\n",
        "\\end{eqnarray}\n",
        "$$"
      ]
    },
    {
      "cell_type": "code",
      "metadata": {
        "id": "xO8u7OQ0KQ2Q"
      },
      "source": [
        "# абстрактный класс, не обращайте внимания\n",
        "from torch.optim import Optimizer\n",
        "\n",
        "\n",
        "class InClassOptimizer(Optimizer):\n",
        "    def step(self):\n",
        "        \"\"\"Perform single optimization step.\"\"\"\n",
        "        with torch.no_grad(): # выключим градиенты\n",
        "            for group in self.param_groups:\n",
        "                self._group_step(group)\n",
        "\n",
        "    def _group_step(self, group):\n",
        "        # group ~ dict[str, ...]\n",
        "        \"\"\"\n",
        "        Private helper function to perform\n",
        "        single optimization step on model parameters.\n",
        "        \"\"\"\n",
        "        raise NotImplementedError()"
      ],
      "execution_count": 14,
      "outputs": []
    },
    {
      "cell_type": "markdown",
      "metadata": {
        "id": "Ti_2gVG8KQ2X"
      },
      "source": [
        "**Task**: Напишите свою реализацию Adam:"
      ]
    },
    {
      "cell_type": "code",
      "metadata": {
        "id": "oDWaJ-PdKQ2Y"
      },
      "source": [
        "class Adam(InClassOptimizer):\n",
        "    def __init__(self, params, lr=0.001, eps=1e-13, beta_1=0.9, beta_2=0.999):\n",
        "        defaults = dict(lr=lr, eps=eps, beta_1=beta_1, beta_2=beta_2)\n",
        "        super().__init__(params, defaults)\n",
        "\n",
        "    def _group_step(self, group):\n",
        "        # One group contains information about values passed in init\n",
        "        # and model parameters to update\n",
        "        lr = group['lr']\n",
        "        eps = group['eps']\n",
        "        beta_1 = group['beta_1']\n",
        "        beta_2 = group['beta_2']\n",
        "                \n",
        "        for param in filter(lambda x: x.grad is not None, group['params']):\n",
        "            self._init_adam_buffer(param)\n",
        "            \n",
        "            param_state = self.state[param]\n",
        "            g = param.grad\n",
        "            \n",
        "            m, v, t = self._get_adam_buffer(param)\n",
        "                       \n",
        "            param_state['m'] = beta_1 * m + (1 - beta_1) * g\n",
        "            \n",
        "            param_state['v'] = beta_2 * v + (1 - beta_2) * (g ** 2)\n",
        "            \n",
        "            m_hat = m / (1 - beta_1 ** t)\n",
        "            v_hat = v / (1 - beta_2 ** t)\n",
        "            \n",
        "            param -= (lr * m_hat) / torch.sqrt(v_hat + eps)\n",
        "            param_state['t'] += 1\n",
        "                        \n",
        "\n",
        "    def _get_adam_buffer(self, param):\n",
        "        \"\"\"\n",
        "        Get accumulated gradients for Adam.\n",
        "\n",
        "        Parameters\n",
        "        ----------\n",
        "        param : `torch.Tensor`, required\n",
        "            Model parameter to get accumulated gradeints for Adagrad.\n",
        "\n",
        "        Returns\n",
        "        -------\n",
        "        Accumulated Adam gradients for parameter.\n",
        "        \"\"\"\n",
        "        \n",
        "        param_state = self.state[param]\n",
        "        return param_state['m'], param_state['v'], param_state['t']\n",
        "        \n",
        "        pass\n",
        "\n",
        "    def _init_adam_buffer(self, param):\n",
        "        \"\"\"\n",
        "        Initialize accumulated gradeints for adam.\n",
        "\n",
        "        Parameters\n",
        "        ----------\n",
        "        param : `torch.Tensor`, required\n",
        "            Model parameter to get accumulated gradeints for adam.\n",
        "        \"\"\"\n",
        "        param_state = self.state[param]\n",
        "        \n",
        "        if 't' not in param_state:\n",
        "            param_state['t'] = 1        \n",
        "        if 'm' not in param_state:\n",
        "            param_state['m'] = torch.zeros_like(param)\n",
        "        if 'v' not in param_state:\n",
        "            param_state['v'] = torch.zeros_like(param)  \n",
        "    "
      ],
      "execution_count": 15,
      "outputs": []
    },
    {
      "cell_type": "markdown",
      "metadata": {
        "id": "5b8hf6qqUPvJ"
      },
      "source": [
        "Проверим работу градиента:"
      ]
    },
    {
      "cell_type": "code",
      "metadata": {
        "id": "Qg2mADOGKQ2r"
      },
      "source": [
        "from sklearn.datasets import make_regression\n",
        "\n",
        "def seed_everything(seed: int):\n",
        "    # Зафиксировать seed.\n",
        "    # Это понадобится, чтобы убедиться\n",
        "    # в правильности работы нашего Optimizer\n",
        "    random.seed(seed)\n",
        "    os.environ[\"PYTHONHASHSEED\"] = str(seed)\n",
        "    np.random.seed(seed)\n",
        "    torch.manual_seed(seed)\n",
        "    torch.cuda.manual_seed(seed)\n",
        "    torch.backends.cudnn.deterministic = True\n",
        "\n",
        "\n",
        "# make_regression возвращает 2 переменные: данные и таргет для них\n",
        "# так как они возвращаётся как np.array,\n",
        "# вызовем для каждого из них команду torch.from_numpy\n",
        "X, y = map(\n",
        "    lambda x: torch.from_numpy(x).float(),\n",
        "    make_regression(n_samples=200, n_features=2)\n",
        ")\n",
        "\n",
        "def get_model():\n",
        "    # Таким образом, мы при каждом вызове будем получить\n",
        "    # модель с одной и той же инициализацией весов\n",
        "    seed_everything(13)\n",
        "    return torch.nn.Sequential(\n",
        "        torch.nn.Linear(2, 10),\n",
        "        torch.nn.Linear(10, 1)\n",
        "    )\n",
        "\n",
        "def check_optimizer(model, optim, num_iter):\n",
        "    loss = torch.nn.MSELoss()\n",
        "    for i in range(num_iter):\n",
        "        output = loss(model(X), y.unsqueeze(-1))\n",
        "        output.backward()\n",
        "        optim.step()\n",
        "        optim.zero_grad()\n",
        "        if i % 100 == 0:\n",
        "            print(f'Iteration {i} loss:', output.item())"
      ],
      "execution_count": 16,
      "outputs": []
    },
    {
      "cell_type": "code",
      "metadata": {
        "id": "nQKqQRWPKQ2y",
        "outputId": "20f071b9-6f08-40dc-fa1c-8fde367ed939",
        "colab": {
          "base_uri": "https://localhost:8080/"
        }
      },
      "source": [
        "model = get_model()\n",
        "optim = Adam(model.parameters(), lr=0.001)\n",
        "check_optimizer(model, optim, num_iter=1000)"
      ],
      "execution_count": 17,
      "outputs": [
        {
          "output_type": "stream",
          "text": [
            "Iteration 0 loss: 4060.505859375\n",
            "Iteration 100 loss: 3995.941650390625\n",
            "Iteration 200 loss: 3897.8720703125\n",
            "Iteration 300 loss: 3738.679931640625\n",
            "Iteration 400 loss: 3513.75634765625\n",
            "Iteration 500 loss: 3233.68896484375\n",
            "Iteration 600 loss: 2916.566162109375\n",
            "Iteration 700 loss: 2580.857421875\n",
            "Iteration 800 loss: 2242.891845703125\n",
            "Iteration 900 loss: 1916.1507568359375\n"
          ],
          "name": "stdout"
        }
      ]
    },
    {
      "cell_type": "code",
      "metadata": {
        "id": "gk8th9r_KQ28",
        "outputId": "532faea5-188c-4c8b-9d8b-3dd05e6c0c51",
        "colab": {
          "base_uri": "https://localhost:8080/"
        }
      },
      "source": [
        "model = get_model()\n",
        "optim = torch.optim.Adam(model.parameters(), lr=0.001)\n",
        "check_optimizer(model, optim, num_iter=1000)"
      ],
      "execution_count": 18,
      "outputs": [
        {
          "output_type": "stream",
          "text": [
            "Iteration 0 loss: 4060.505859375\n",
            "Iteration 100 loss: 3995.242431640625\n",
            "Iteration 200 loss: 3896.7509765625\n",
            "Iteration 300 loss: 3736.746337890625\n",
            "Iteration 400 loss: 3511.5400390625\n",
            "Iteration 500 loss: 3231.650390625\n",
            "Iteration 600 loss: 2915.04443359375\n",
            "Iteration 700 loss: 2579.994140625\n",
            "Iteration 800 loss: 2242.687744140625\n",
            "Iteration 900 loss: 1916.5224609375\n"
          ],
          "name": "stdout"
        }
      ]
    },
    {
      "cell_type": "markdown",
      "metadata": {
        "id": "3ui8qx6xKQ2f"
      },
      "source": [
        "**Task**: Создайте параметры для обучения линейной регрессии, сделаем Xavier ициализацию, которая выглядит следующим образом: \n",
        "\n",
        "$$w \\sim U[-\\frac{\\sqrt{6}}{\\sqrt{n_{in} + n_{out}}}, \\frac{\\sqrt{6}}{\\sqrt{n_{in} + n_{out}}}]$$\n",
        "\n",
        "где: \n",
        "\n",
        "* $n_{in}$ -- размер входа (в нейронах) \n",
        "* $n_{out}$ -- размер выхода (в нейронах)\n",
        "\n",
        "Подумайте над выбором $n_{in}$ и $n_{out}$ самостоятельно. "
      ]
    },
    {
      "cell_type": "code",
      "metadata": {
        "id": "TsDgVeM0KQ2h"
      },
      "source": [
        "var = - math.sqrt(6) / math.sqrt(28 ** 2 + 10) #т.к. размер изображения 28*28 = n_in, n_out = 10 классов\n",
        "\n",
        "weights = torch.tensor(np.random.uniform(-var , var, size =(10, 28 ** 2)),requires_grad = True)\n",
        "intercept = torch.tensor(np.random.uniform(-var , var, size =(1, 10)), requires_grad = True)"
      ],
      "execution_count": 19,
      "outputs": []
    },
    {
      "cell_type": "code",
      "metadata": {
        "id": "VgTqZZf-KQ3F"
      },
      "source": [
        "optimizer = Adam([weights, intercept])\n",
        "criterion = nn.CrossEntropyLoss()"
      ],
      "execution_count": 20,
      "outputs": []
    },
    {
      "cell_type": "markdown",
      "metadata": {
        "id": "RJWJ6rD8KQ3N"
      },
      "source": [
        "Загрузим данные и создадим даталоадеры:"
      ]
    },
    {
      "cell_type": "code",
      "metadata": {
        "id": "IpdBtmFBKQ3O"
      },
      "source": [
        "fashion_mnist_train = torchvision.datasets.FashionMNIST(\n",
        "    './data',\n",
        "    download=True,\n",
        "    transform=transforms.Compose([transforms.ToTensor()])\n",
        ")\n",
        "train_dataloader = DataLoader(fashion_mnist_train, batch_size = 16, shuffle=True, num_workers=2)# your code here\n",
        "\n",
        "fashion_mnist_eval = torchvision.datasets.FashionMNIST(\n",
        "    './data',\n",
        "    train=False,\n",
        "    download=True,\n",
        "    transform=transforms.Compose([transforms.ToTensor()])\n",
        ")\n",
        "\n",
        "eval_dataloader = DataLoader(fashion_mnist_eval, batch_size = 16, num_workers=2)# your code here"
      ],
      "execution_count": 21,
      "outputs": []
    },
    {
      "cell_type": "code",
      "metadata": {
        "id": "I5JRp4_eKQ3c",
        "outputId": "e2dab408-7e76-4c77-df8c-767abd32dfec",
        "colab": {
          "base_uri": "https://localhost:8080/",
          "height": 216
        }
      },
      "source": [
        "for i in [0, 1]:\n",
        "    plt.subplot(1, 2, i + 1)\n",
        "    plt.imshow(fashion_mnist_train[i][0].squeeze(0).numpy().reshape([28, 28]))\n",
        "    plt.title(str(fashion_mnist_train[i][1]))\n",
        "plt.show()"
      ],
      "execution_count": 22,
      "outputs": [
        {
          "output_type": "display_data",
          "data": {
            "image/png": "[encoded data removed]",
            "text/plain": [
              "<Figure size 432x288 with 2 Axes>"
            ]
          },
          "metadata": {
            "tags": [],
            "needs_background": "light"
          }
        }
      ]
    },
    {
      "cell_type": "markdown",
      "metadata": {
        "id": "47ZQkv8lKQ3i"
      },
      "source": [
        "Напишите функцию для тренировки логистической регрессии, она должна: \n",
        "    * Делать предсказания \n",
        "    * Считать лосс \n",
        "    * Подсчитывать градиенты\n",
        "    * Делать шаг оптимизации\n",
        "    * Обнулять посчитанные градиенты\n",
        "    * Считать метрики \n",
        "    * Возвращать полученные метрики\n",
        "    \n",
        "После этого предусмотрите возможность визуализировать метрики, чтобы нарисовать картинки, а именно от вас требуется визуализировать: \n",
        "\n",
        "    * Зависимость лосса от количества итераций\n",
        "    * Зависимость доли правильных ответов от количества итераций"
      ]
    },
    {
      "cell_type": "code",
      "metadata": {
        "id": "d7cOEjZpKQ3m"
      },
      "source": [
        "device = torch.device(\"cuda\" if torch.cuda.is_available() else \"cpu\")"
      ],
      "execution_count": 23,
      "outputs": []
    },
    {
      "cell_type": "code",
      "metadata": {
        "id": "xqdsBK02HyL1"
      },
      "source": [
        "def accuracy(outputs, labels):\n",
        "    _, preds = torch.max(outputs, dim=1)\n",
        "    return torch.tensor(torch.sum(preds == labels).item() / len(preds))"
      ],
      "execution_count": 24,
      "outputs": []
    },
    {
      "cell_type": "code",
      "metadata": {
        "id": "KgqfuPNSH4KU"
      },
      "source": [
        "class LogReg(torch.nn.Module):\n",
        "    def __init__(self):\n",
        "        super(LogReg, self).__init__()\n",
        "        self.linear = torch.nn.Linear(784, 10)\n",
        "\n",
        "    def forward(self, x):\n",
        "        x = x.reshape(-1, 784)\n",
        "        out = torch.sigmoid(self.linear(x))\n",
        "        return out\n",
        "    \n",
        "    def training_step(self, batch):\n",
        "        images, labels = batch \n",
        "        out = self(images)               \n",
        "        return out, criterion(out, labels), accuracy(out,labels)\n",
        "    \n",
        "    def validation_step(self, batch):\n",
        "        images, labels = batch \n",
        "        out = self(images)                      \n",
        "        return {'val_loss': criterion(out, labels), 'val_acc': accuracy(out, labels)}\n",
        "\n",
        "    def validation_epoch_end(self, outputs):\n",
        "        batch_losses = [x['val_loss'] for x in outputs]\n",
        "        epoch_loss = torch.stack(batch_losses).mean()   \n",
        "        batch_accs = [x['val_acc'] for x in outputs]\n",
        "        epoch_acc = torch.stack(batch_accs).mean()      \n",
        "        return {'val_loss': epoch_loss.item(), 'val_acc': epoch_acc.item()}\n",
        "\n",
        "    def epoch_end(self, epoch, result):\n",
        "        print(\"Epoch [{}], val_loss: {:.4f}, val_acc: {:.4f}\".format(epoch, result['val_loss'], result['val_acc']))\n",
        "    \n",
        "model = LogReg()\n",
        "\n",
        "def weight_init(md):\n",
        "    if isinstance(md, torch.nn.Linear):\n",
        "        torch.nn.init.xavier_uniform_(md.weight)\n",
        "        if m.bias: \n",
        "            torch.nn.init.xavier_uniform_(md.bias)\n",
        "            \n",
        "weight_init(model)"
      ],
      "execution_count": 26,
      "outputs": []
    },
    {
      "cell_type": "code",
      "metadata": {
        "id": "AnixX9j7IDYW"
      },
      "source": [
        "def evaluate(model, val_loader):\n",
        "    outputs = [model.validation_step(batch) for batch in eval_dataloader]\n",
        "    return model.validation_epoch_end(outputs)\n",
        "\n",
        "def fit(epochs, model, train_dataloader, eval_dataloader, opt_func=optimizer):\n",
        "    train_loss =0\n",
        "    train_acc=0\n",
        "    train_size = 0\n",
        "\n",
        "    history = []\n",
        "    all_acc=[]\n",
        "    all_losses = []\n",
        "    all_train_losses=[]\n",
        "    all_train_acc=[]\n",
        "\n",
        "    optimizer = Adam(model.parameters())\n",
        "\n",
        "    for epoch in range(epochs):\n",
        "        # Training Phase \n",
        "        for batch in train_dataloader:\n",
        "            optimizer.zero_grad()\n",
        "            out, loss, acc = model.training_step(batch)\n",
        "            all_train_acc.append(acc.item())\n",
        "            all_train_losses.append(loss.item())\n",
        "            loss.backward()\n",
        "            optimizer.step()\n",
        "\n",
        "        result = evaluate(model, eval_dataloader)\n",
        "        model.epoch_end(epoch, result)\n",
        "        history.append(result)\n",
        "        \n",
        "    return history, all_train_losses, all_train_acc"
      ],
      "execution_count": 27,
      "outputs": []
    },
    {
      "cell_type": "code",
      "metadata": {
        "id": "153RV7qtKQ4A",
        "outputId": "d9d5180d-9b3c-4cfb-917c-a9486dd2f408",
        "colab": {
          "base_uri": "https://localhost:8080/"
        }
      },
      "source": [
        "history, history_loss, history_acc = fit(20, model, train_dataloader, eval_dataloader)"
      ],
      "execution_count": 28,
      "outputs": [
        {
          "output_type": "stream",
          "text": [
            "Epoch [0], val_loss: 1.6258, val_acc: 0.7850\n",
            "Epoch [1], val_loss: 1.6074, val_acc: 0.7971\n",
            "Epoch [2], val_loss: 1.6004, val_acc: 0.8182\n",
            "Epoch [3], val_loss: 1.5946, val_acc: 0.8224\n",
            "Epoch [4], val_loss: 1.5923, val_acc: 0.8250\n",
            "Epoch [5], val_loss: 1.5900, val_acc: 0.8269\n",
            "Epoch [6], val_loss: 1.5896, val_acc: 0.8270\n",
            "Epoch [7], val_loss: 1.5884, val_acc: 0.8287\n",
            "Epoch [8], val_loss: 1.5865, val_acc: 0.8303\n",
            "Epoch [9], val_loss: 1.5864, val_acc: 0.8333\n",
            "Epoch [10], val_loss: 1.5853, val_acc: 0.8295\n",
            "Epoch [11], val_loss: 1.5838, val_acc: 0.8331\n",
            "Epoch [12], val_loss: 1.5833, val_acc: 0.8354\n",
            "Epoch [13], val_loss: 1.5840, val_acc: 0.8320\n",
            "Epoch [14], val_loss: 1.5849, val_acc: 0.8332\n",
            "Epoch [15], val_loss: 1.5821, val_acc: 0.8326\n",
            "Epoch [16], val_loss: 1.5838, val_acc: 0.8300\n",
            "Epoch [17], val_loss: 1.5810, val_acc: 0.8341\n",
            "Epoch [18], val_loss: 1.5820, val_acc: 0.8325\n",
            "Epoch [19], val_loss: 1.5813, val_acc: 0.8348\n"
          ],
          "name": "stdout"
        }
      ]
    },
    {
      "cell_type": "code",
      "metadata": {
        "id": "kHvprRz8Ig8z"
      },
      "source": [
        "import matplotlib.pyplot as plt\n",
        "from IPython.display import clear_output\n",
        "\n",
        "def plot_history(train_history, val_history, title='loss'):\n",
        "    plt.figure()\n",
        "    plt.title('{}'.format(title))\n",
        "    plt.plot(train_history, label='train', zorder=1)\n",
        "    \n",
        "    points = np.array(val_history)\n",
        "    steps = list(range(0, len(train_history) + 1, int(len(train_history) / len(val_history))))[1:]\n",
        "    \n",
        "    plt.scatter(steps, val_history, marker='+', s=180, c='orange', label='val', zorder=2)\n",
        "    plt.xlabel('iterations')\n",
        "    \n",
        "    plt.legend(loc='best')\n",
        "    plt.grid()\n",
        "\n",
        "    plt.show()"
      ],
      "execution_count": 29,
      "outputs": []
    },
    {
      "cell_type": "code",
      "metadata": {
        "id": "dSNXooG2Ik6K",
        "outputId": "81e768c0-a1e8-4c0c-a20d-7af614f4936e",
        "colab": {
          "base_uri": "https://localhost:8080/",
          "height": 295
        }
      },
      "source": [
        "accuracies = [result['val_acc'] for result in history]\n",
        "\n",
        "plot_history(history_acc, accuracies, \"accuracy\")"
      ],
      "execution_count": 30,
      "outputs": [
        {
          "output_type": "display_data",
          "data": {
            "image/png": "[encoded data removed]",
            "text/plain": [
              "<Figure size 432x288 with 1 Axes>"
            ]
          },
          "metadata": {
            "tags": [],
            "needs_background": "light"
          }
        }
      ]
    },
    {
      "cell_type": "code",
      "metadata": {
        "id": "icfAtxfFIgqR",
        "outputId": "90a531ca-6bd8-43da-c0bf-939b18728219",
        "colab": {
          "base_uri": "https://localhost:8080/",
          "height": 295
        }
      },
      "source": [
        "loss = [result['val_loss'] for result in history]\n",
        "\n",
        "plot_history(history_loss, loss, \"Loss\")"
      ],
      "execution_count": 31,
      "outputs": [
        {
          "output_type": "display_data",
          "data": {
            "image/png": "[encoded data removed]",
            "text/plain": [
              "<Figure size 432x288 with 1 Axes>"
            ]
          },
          "metadata": {
            "tags": [],
            "needs_background": "light"
          }
        }
      ]
    },
    {
      "cell_type": "markdown",
      "metadata": {
        "id": "x_j9JHAjKQ4J"
      },
      "source": [
        "#### Вопросы к секции: \n",
        "\n",
        "* Своими словами и без математики объясните благодаря чему Adam дает несмещенную оценку на квадрат градиента\n",
        "* Когда модель начала переобучаться? Как вы это поняли? Сделайте визуализацию и докажите свою точку зрения."
      ]
    },
    {
      "cell_type": "markdown",
      "metadata": {
        "id": "tiLYMQBuKQ4L"
      },
      "source": [
        "Т.к. при расчете $\\hat m, \\hat v$ используется $1-\\beta_i^t$, при достаточно большом t знаменатель дроби стремится к 1, а значит $m^hat, v^hat$ стремятся к m, v. При этом на нулевом шаге при $m_0 = 0: \\hat m_t = \\dfrac{m_t}{1-\\beta^t}$, то есть смещенный initial guess не учитывается в модели."
      ]
    },
    {
      "cell_type": "markdown",
      "metadata": {
        "id": "qLUPSzTHhGwJ"
      },
      "source": [
        "мы видим, что вариация как loss, так и accuracy достаточно быстро возрастает, а значит модель переобучается по сути за первую тысячу итераций."
      ]
    },
    {
      "cell_type": "markdown",
      "metadata": {
        "id": "DKnZ1-wbKQ4W"
      },
      "source": [
        "### Моя первая нейросеть (4 балла)"
      ]
    },
    {
      "cell_type": "markdown",
      "metadata": {
        "id": "O4d1yjMWKQ4Z"
      },
      "source": [
        "В данной секции вам нужно сделать следующие вещи: \n",
        "\n",
        "* Реализовать три разных архитектуры нейросетей. Эти архитектуры должны принципиально отличаться друг от друга. Разрешается одной из архитекур брать полностью полносвязную модель. Остальные две должны быть сверточными и сильно отличаться друг от друга. К примеру, одна из таких архитектур может быть VGG подобная сеть, а другая ResNet подобная архитектура. \n",
        "\n",
        "* Написать цикл для обучения которым можно обучать все три модели без изменений кода\n",
        "\n",
        "* Попробовать каждую модель с двумя оптимизаторами: RMSprop и SGD with momentum\n",
        "\n",
        "* Визуализировать результаты перфоманса каждой модели (две метрики минимум для каждого сетапа, например, лосс и долю правильных ответов). В данном пункте мы ждем от вас визуализацию зависимости метрики от номера итерации обучения.\n",
        "\n",
        "* Сделать выводы какие были модели были лучше и как вы думаете почему?"
      ]
    },
    {
      "cell_type": "code",
      "metadata": {
        "id": "UVMBzEPAKQ4a"
      },
      "source": [
        "NUM_EPOCH = 20"
      ],
      "execution_count": 32,
      "outputs": []
    },
    {
      "cell_type": "code",
      "metadata": {
        "id": "kW53hXWeKQ4n"
      },
      "source": [
        "def train(model, criterion, optimizer, train_dataloader, test_dataloader):\n",
        "    train_loss_log = []\n",
        "    train_acc_log = []\n",
        "    val_loss_log = []\n",
        "    val_acc_log = []\n",
        "    \n",
        "    for epoch in range(NUM_EPOCH):\n",
        "        model.train()\n",
        "        train_loss = 0.\n",
        "        train_size = 0\n",
        "        train_acc = 0.\n",
        "        for imgs, labels in train_dataloader:\n",
        "            optimizer.zero_grad()\n",
        "\n",
        "            imgs = imgs.to(device)\n",
        "            labels = labels.to(device)\n",
        "\n",
        "            y_pred = model(imgs)\n",
        "\n",
        "            loss = criterion(y_pred, labels)\n",
        "            loss.backward()\n",
        "            train_loss += loss.item()\n",
        "            train_size += y_pred.size(0)\n",
        "            train_loss_log.append(loss.data / y_pred.size(0))\n",
        "\n",
        "            _, pred_classes = torch.max(y_pred, 1)\n",
        "            train_acc += (pred_classes == labels).sum().item()\n",
        "            train_acc_log.append(np.mean((pred_classes == labels).cpu().numpy()))\n",
        "\n",
        "            optimizer.step()\n",
        "\n",
        "        val_loss = 0.\n",
        "        val_size = 0\n",
        "        val_acc = 0.\n",
        "        model.eval()\n",
        "        with torch.no_grad():\n",
        "            for imgs, labels in test_dataloader:\n",
        "                imgs = imgs.to(device)\n",
        "                labels = labels.to(device)\n",
        "                \n",
        "                pred = model(imgs)\n",
        "                loss = criterion(pred, labels)\n",
        "                val_loss += loss.item()\n",
        "                val_size += pred.size(0)\n",
        "\n",
        "                _, pred_classes = torch.max(pred, 1)\n",
        "                val_acc += (pred_classes == labels).sum().item()\n",
        "        val_loss_log.append(val_loss / val_size)\n",
        "        val_acc_log.append(val_acc / val_size)\n",
        "\n",
        "        clear_output()\n",
        "        plot_history(train_loss_log, val_loss_log, 'loss')\n",
        "        plot_history(train_acc_log, val_acc_log, 'accuracy')\n",
        "\n",
        "        print('Train loss:', train_loss / train_size)\n",
        "        print('Train acc:', train_acc / train_size)\n",
        "        print('Val loss:', val_loss / val_size)\n",
        "        print('Val acc:', val_acc / val_size)"
      ],
      "execution_count": 33,
      "outputs": []
    },
    {
      "cell_type": "code",
      "metadata": {
        "id": "3urWh6WKOgZA"
      },
      "source": [
        "criterion = nn.CrossEntropyLoss().to(device)"
      ],
      "execution_count": 34,
      "outputs": []
    },
    {
      "cell_type": "code",
      "metadata": {
        "id": "MornENqcOgUA"
      },
      "source": [
        "model_fullconnect = nn.Sequential(\n",
        "    nn.Flatten(),\n",
        "    nn.Linear(784, 64),\n",
        "    nn.ReLU(),\n",
        "    nn.Linear(64, 32),\n",
        "    nn.ReLU(),\n",
        "    nn.Linear(32, 10)\n",
        ").to(device)"
      ],
      "execution_count": 35,
      "outputs": []
    },
    {
      "cell_type": "code",
      "metadata": {
        "id": "wXLER1KVQZDw",
        "outputId": "ed4efb61-f598-46ed-beb2-f0e7da93451b",
        "colab": {
          "base_uri": "https://localhost:8080/",
          "height": 647
        }
      },
      "source": [
        "optimizerS = torch.optim.SGD(model_fullconnect.parameters(), lr=0.001, momentum=0.9)\n",
        "\n",
        "train(model_fullconnect, criterion, optimizerS, train_dataloader, eval_dataloader)"
      ],
      "execution_count": 36,
      "outputs": [
        {
          "output_type": "display_data",
          "data": {
            "image/png": "[encoded data removed]",
            "text/plain": [
              "<Figure size 432x288 with 1 Axes>"
            ]
          },
          "metadata": {
            "tags": [],
            "needs_background": "light"
          }
        },
        {
          "output_type": "display_data",
          "data": {
            "image/png": "[encoded data removed]",
            "text/plain": [
              "<Figure size 432x288 with 1 Axes>"
            ]
          },
          "metadata": {
            "tags": [],
            "needs_background": "light"
          }
        },
        {
          "output_type": "stream",
          "text": [
            "Train loss: 0.017258884287703162\n",
            "Train acc: 0.8990333333333334\n",
            "Val loss: 0.022108856454119086\n",
            "Val acc: 0.869\n"
          ],
          "name": "stdout"
        }
      ]
    },
    {
      "cell_type": "code",
      "metadata": {
        "id": "ck_5OVgOc0x1"
      },
      "source": [
        "model_vggstyle = nn.Sequential(\n",
        "    nn.Conv2d(1, 16, 3, padding=1),\n",
        "    nn.ReLU(),\n",
        "    nn.Conv2d(16, 16, 3, padding=1),\n",
        "    nn.ReLU(),\n",
        "    nn.MaxPool2d(2, 2),\n",
        "    nn.Dropout(0.2),\n",
        "\n",
        "    nn.Conv2d(16, 32, 3, padding=1),\n",
        "    nn.ReLU(),\n",
        "    nn.Conv2d(32, 32, 3, padding=1),\n",
        "    nn.ReLU(),\n",
        "    nn.MaxPool2d(2, 2),\n",
        "    nn.Dropout(0.2),\n",
        "\n",
        "    nn.Flatten(),\n",
        "    nn.Linear(32 * 7 * 7, 128),\n",
        "    nn.ReLU(),\n",
        "    nn.Linear(128, 10),\n",
        "    nn.Softmax()\n",
        ").to(device)"
      ],
      "execution_count": 37,
      "outputs": []
    },
    {
      "cell_type": "code",
      "metadata": {
        "id": "zxO7j1gdKQ4v",
        "outputId": "5123544d-a0c3-4330-92f0-aca73087c300",
        "colab": {
          "base_uri": "https://localhost:8080/",
          "height": 647
        }
      },
      "source": [
        "optimizerS = torch.optim.SGD(model_vggstyle.parameters(), lr=0.001, momentum=0.9)\n",
        "\n",
        "train(model_vggstyle, criterion, optimizerS, train_dataloader, eval_dataloader)"
      ],
      "execution_count": 38,
      "outputs": [
        {
          "output_type": "display_data",
          "data": {
            "image/png": "[encoded data removed]",
            "text/plain": [
              "<Figure size 432x288 with 1 Axes>"
            ]
          },
          "metadata": {
            "tags": [],
            "needs_background": "light"
          }
        },
        {
          "output_type": "display_data",
          "data": {
            "image/png": "[encoded data removed]",
            "text/plain": [
              "<Figure size 432x288 with 1 Axes>"
            ]
          },
          "metadata": {
            "tags": [],
            "needs_background": "light"
          }
        },
        {
          "output_type": "stream",
          "text": [
            "Train loss: 0.10220154322385788\n",
            "Train acc: 0.82615\n",
            "Val loss: 0.10232752318382263\n",
            "Val acc: 0.8244\n"
          ],
          "name": "stdout"
        }
      ]
    },
    {
      "cell_type": "code",
      "metadata": {
        "id": "wVn5JbuQKQ43"
      },
      "source": [
        "class ResNet(torch.nn.Module):\n",
        "    def __init__(self, module):\n",
        "        super().__init__()\n",
        "        self.module = module\n",
        "\n",
        "    def forward(self, inputs):\n",
        "        return self.module(inputs) + inputs\n",
        "\n",
        "model_resnetstyle = torch.nn.Sequential(\n",
        "    torch.nn.Conv2d(1, 32, 3, padding=1),\n",
        "    \n",
        "    ResNet(\n",
        "        torch.nn.Sequential(\n",
        "            torch.nn.Conv2d(32, 32, kernel_size=3, padding=1),\n",
        "            torch.nn.ReLU(),\n",
        "            torch.nn.BatchNorm2d(32),\n",
        "            torch.nn.Conv2d(32, 32, kernel_size=3, padding=1),\n",
        "            torch.nn.ReLU(),\n",
        "            torch.nn.BatchNorm2d(32),\n",
        "        )\n",
        "    ),\n",
        "\n",
        "    ResNet(\n",
        "        torch.nn.Sequential(\n",
        "            torch.nn.Conv2d(32, 32, kernel_size=3, padding=1),\n",
        "            torch.nn.ReLU(),\n",
        "            torch.nn.BatchNorm2d(32),\n",
        "            torch.nn.Conv2d(32, 32, kernel_size=3, padding=1),\n",
        "            torch.nn.ReLU(),\n",
        "            torch.nn.BatchNorm2d(32),\n",
        "        )\n",
        "    ),\n",
        "    \n",
        "    torch.nn.AdaptiveAvgPool2d(1),\n",
        "    \n",
        "    nn.Flatten(),\n",
        "    torch.nn.Linear(32, 10)\n",
        ").to(device)"
      ],
      "execution_count": 39,
      "outputs": []
    },
    {
      "cell_type": "code",
      "metadata": {
        "id": "NnoR679qZbzh",
        "outputId": "5fa1c2e0-ac82-49b7-9aa4-dfdca503b5e8",
        "colab": {
          "base_uri": "https://localhost:8080/",
          "height": 647
        }
      },
      "source": [
        "optimizerS = torch.optim.SGD(model_resnetstyle.parameters(), lr=0.001, momentum=0.9)\n",
        "\n",
        "train(model_resnetstyle, criterion, optimizerS, train_dataloader, eval_dataloader)"
      ],
      "execution_count": 40,
      "outputs": [
        {
          "output_type": "display_data",
          "data": {
            "image/png": "[encoded data removed]",
            "text/plain": [
              "<Figure size 432x288 with 1 Axes>"
            ]
          },
          "metadata": {
            "tags": [],
            "needs_background": "light"
          }
        },
        {
          "output_type": "display_data",
          "data": {
            "image/png": "[encoded data removed]",
            "text/plain": [
              "<Figure size 432x288 with 1 Axes>"
            ]
          },
          "metadata": {
            "tags": [],
            "needs_background": "light"
          }
        },
        {
          "output_type": "stream",
          "text": [
            "Train loss: 0.014692734462022782\n",
            "Train acc: 0.9181333333333334\n",
            "Val loss: 0.016434814727399497\n",
            "Val acc: 0.9076\n"
          ],
          "name": "stdout"
        }
      ]
    },
    {
      "cell_type": "code",
      "metadata": {
        "id": "U1ySw_1DKQ4_"
      },
      "source": [
        "# train and visualize and write summary down there"
      ],
      "execution_count": 41,
      "outputs": []
    },
    {
      "cell_type": "markdown",
      "metadata": {
        "id": "5eyBSoWINb5s"
      },
      "source": [
        "### Проверим сети с другим оптимайзером"
      ]
    },
    {
      "cell_type": "code",
      "metadata": {
        "id": "AFQREuPapjvL"
      },
      "source": [
        "model_fullconnect = nn.Sequential(\n",
        "    nn.Flatten(),\n",
        "    nn.Linear(784, 64),\n",
        "    nn.ReLU(),\n",
        "    nn.Linear(64, 32),\n",
        "    nn.ReLU(),\n",
        "    nn.Linear(32, 10)\n",
        ").to(device)"
      ],
      "execution_count": 42,
      "outputs": []
    },
    {
      "cell_type": "code",
      "metadata": {
        "id": "JDtOu3dGNkwA",
        "outputId": "b45a55c4-6fb4-4c22-ba5e-1c78326407d3",
        "colab": {
          "base_uri": "https://localhost:8080/",
          "height": 647
        }
      },
      "source": [
        "optimizerR = torch.optim.RMSprop(model_fullconnect.parameters(), lr=0.001)\n",
        "\n",
        "train(model_fullconnect, criterion, optimizerR, train_dataloader, eval_dataloader)"
      ],
      "execution_count": 43,
      "outputs": [
        {
          "output_type": "display_data",
          "data": {
            "image/png": "[encoded data removed]",
            "text/plain": [
              "<Figure size 432x288 with 1 Axes>"
            ]
          },
          "metadata": {
            "tags": [],
            "needs_background": "light"
          }
        },
        {
          "output_type": "display_data",
          "data": {
            "image/png": "[encoded data removed]",
            "text/plain": [
              "<Figure size 432x288 with 1 Axes>"
            ]
          },
          "metadata": {
            "tags": [],
            "needs_background": "light"
          }
        },
        {
          "output_type": "stream",
          "text": [
            "Train loss: 0.014540363002358937\n",
            "Train acc: 0.9144\n",
            "Val loss: 0.02435493169664405\n",
            "Val acc: 0.8833\n"
          ],
          "name": "stdout"
        }
      ]
    },
    {
      "cell_type": "code",
      "metadata": {
        "id": "OMPJLxelpi02"
      },
      "source": [
        "model_vggstyle = nn.Sequential(\n",
        "    nn.Conv2d(1, 16, 3, padding=1),\n",
        "    nn.ReLU(),\n",
        "    nn.Conv2d(16, 16, 3, padding=1),\n",
        "    nn.ReLU(),\n",
        "    nn.MaxPool2d(2, 2),\n",
        "    nn.Dropout(0.2),\n",
        "\n",
        "    nn.Conv2d(16, 32, 3, padding=1),\n",
        "    nn.ReLU(),\n",
        "    nn.Conv2d(32, 32, 3, padding=1),\n",
        "    nn.ReLU(),\n",
        "    nn.MaxPool2d(2, 2),\n",
        "    nn.Dropout(0.2),\n",
        "\n",
        "    nn.Flatten(),\n",
        "    nn.Linear(32 * 7 * 7, 128),\n",
        "    nn.ReLU(),\n",
        "    nn.Linear(128, 10),\n",
        "    nn.Softmax()\n",
        ").to(device)"
      ],
      "execution_count": 44,
      "outputs": []
    },
    {
      "cell_type": "code",
      "metadata": {
        "id": "w6zvka1nNk1z",
        "outputId": "bd62c4df-4247-4873-ca7d-16103554f6d2",
        "colab": {
          "base_uri": "https://localhost:8080/",
          "height": 647
        }
      },
      "source": [
        "optimizerR = torch.optim.RMSprop(model_vggstyle.parameters(), lr=0.001)\n",
        "\n",
        "train(model_vggstyle, criterion, optimizerR, train_dataloader, eval_dataloader)"
      ],
      "execution_count": 45,
      "outputs": [
        {
          "output_type": "display_data",
          "data": {
            "image/png": "[encoded data removed]",
            "text/plain": [
              "<Figure size 432x288 with 1 Axes>"
            ]
          },
          "metadata": {
            "tags": [],
            "needs_background": "light"
          }
        },
        {
          "output_type": "display_data",
          "data": {
            "image/png": "[encoded data removed]",
            "text/plain": [
              "<Figure size 432x288 with 1 Axes>"
            ]
          },
          "metadata": {
            "tags": [],
            "needs_background": "light"
          }
        },
        {
          "output_type": "stream",
          "text": [
            "Train loss: 0.10182318004568418\n",
            "Train acc: 0.83195\n",
            "Val loss: 0.10383828939199448\n",
            "Val acc: 0.7997\n"
          ],
          "name": "stdout"
        }
      ]
    },
    {
      "cell_type": "code",
      "metadata": {
        "id": "IjlOQ9yYphC6"
      },
      "source": [
        "class ResNet(torch.nn.Module):\n",
        "    def __init__(self, module):\n",
        "        super().__init__()\n",
        "        self.module = module\n",
        "\n",
        "    def forward(self, inputs):\n",
        "        return self.module(inputs) + inputs\n",
        "\n",
        "model_resnetstyle = torch.nn.Sequential(\n",
        "    torch.nn.Conv2d(1, 32, 3, padding=1),\n",
        "    # 32 filters in and out, no max pooling so the shapes can be added\n",
        "    ResNet(\n",
        "        torch.nn.Sequential(\n",
        "            torch.nn.Conv2d(32, 32, kernel_size=3, padding=1),\n",
        "            torch.nn.ReLU(),\n",
        "            torch.nn.BatchNorm2d(32),\n",
        "            torch.nn.Conv2d(32, 32, kernel_size=3, padding=1),\n",
        "            torch.nn.ReLU(),\n",
        "            torch.nn.BatchNorm2d(32),\n",
        "        )\n",
        "    ),\n",
        "    # Another ResNet block, you could make more of them\n",
        "    # Downsampling using maxpool and others could be done in between etc. etc.\n",
        "    ResNet(\n",
        "        torch.nn.Sequential(\n",
        "            torch.nn.Conv2d(32, 32, kernel_size=3, padding=1),\n",
        "            torch.nn.ReLU(),\n",
        "            torch.nn.BatchNorm2d(32),\n",
        "            torch.nn.Conv2d(32, 32, kernel_size=3, padding=1),\n",
        "            torch.nn.ReLU(),\n",
        "            torch.nn.BatchNorm2d(32),\n",
        "        )\n",
        "    ),\n",
        "    # Pool all the 32 filters to 1, you may need to use `torch.squeeze after this layer`\n",
        "    torch.nn.AdaptiveAvgPool2d(1),\n",
        "    # 32 10 classes\n",
        "    nn.Flatten(),\n",
        "    torch.nn.Linear(32, 10)\n",
        ").to(device)"
      ],
      "execution_count": 46,
      "outputs": []
    },
    {
      "cell_type": "code",
      "metadata": {
        "id": "Zymy1vWlNlB8",
        "outputId": "e87b44e9-992d-482e-92c0-630e0dde442e",
        "colab": {
          "base_uri": "https://localhost:8080/",
          "height": 647
        }
      },
      "source": [
        "optimizerR = torch.optim.RMSprop(model_resnetstyle.parameters(), lr=0.001)\n",
        "\n",
        "train(model_resnetstyle, criterion, optimizerR, train_dataloader, eval_dataloader)"
      ],
      "execution_count": 47,
      "outputs": [
        {
          "output_type": "display_data",
          "data": {
            "image/png": "[encoded data removed]",
            "text/plain": [
              "<Figure size 432x288 with 1 Axes>"
            ]
          },
          "metadata": {
            "tags": [],
            "needs_background": "light"
          }
        },
        {
          "output_type": "display_data",
          "data": {
            "image/png": "[encoded data removed]",
            "text/plain": [
              "<Figure size 432x288 with 1 Axes>"
            ]
          },
          "metadata": {
            "tags": [],
            "needs_background": "light"
          }
        },
        {
          "output_type": "stream",
          "text": [
            "Train loss: 0.01214182978705503\n",
            "Train acc: 0.9299833333333334\n",
            "Val loss: 0.015972501626145094\n",
            "Val acc: 0.9126\n"
          ],
          "name": "stdout"
        }
      ]
    },
    {
      "cell_type": "markdown",
      "metadata": {
        "id": "P_ZMOnnCp6gh"
      },
      "source": [
        "Можно сделать несколько выводов о перформансе моделей: в среднем, RMSprop оказлася более подходящим оптимайзером, чем SGD с показателем momentum = 0.9: это может быть связано с тем, что Rms prop меньше обновляет веса, которые достаточно часто менялись до этого, но вместо полной суммы обновлений используется средний квадрат градиента с учетом всех итераций. Стоит отметить хорошие показатели качества полносвязаной модели с тремя линейными слоями: она достаточно быстро сходилась и давала хорошее качество при сравнительно небольшом количестве итераций, но начала переобучаться при использовании RMS при большом количестве итерацией. Хорошие результаты качества показала ResNet-style модель, худшие показатели дала VGG модель.\n"
      ]
    }
  ]
}